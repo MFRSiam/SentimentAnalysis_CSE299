{
 "cells": [
  {
   "cell_type": "code",
   "execution_count": 1,
   "metadata": {},
   "outputs": [],
   "source": [
    "import pandas as pd\n",
    "import torch\n",
    "import numpy as np\n",
    "import sqlite3\n",
    "import matplotlib.pyplot as plt\n",
    "import seaborn as sns\n",
    "import re\n",
    "import nltk\n",
    "from nltk.corpus import stopwords\n",
    "from nltk.stem import WordNetLemmatizer\n",
    "from nltk.stem.porter import PorterStemmer\n",
    "from sklearn.feature_extraction.text import CountVectorizer\n",
    "\n",
    "pd.set_option('display.max_columns', None)\n",
    "pd.set_option('display.max_rows', None)\n",
    "import warnings"
   ]
  },
  {
   "cell_type": "code",
   "execution_count": 2,
   "metadata": {},
   "outputs": [],
   "source": [
    "import sqlite3\n",
    "\n",
    "# Read sqlite query results into a pandas DataFrame\n",
    "con = sqlite3.connect(\"./data/flipkart_products.db\")\n",
    "items = pd.read_sql_query(\"SELECT * from items\", con)\n"
   ]
  },
  {
   "cell_type": "code",
   "execution_count": 3,
   "metadata": {},
   "outputs": [
    {
     "data": {
      "text/html": [
       "<div>\n",
       "<style scoped>\n",
       "    .dataframe tbody tr th:only-of-type {\n",
       "        vertical-align: middle;\n",
       "    }\n",
       "\n",
       "    .dataframe tbody tr th {\n",
       "        vertical-align: top;\n",
       "    }\n",
       "\n",
       "    .dataframe thead th {\n",
       "        text-align: right;\n",
       "    }\n",
       "</style>\n",
       "<table border=\"1\" class=\"dataframe\">\n",
       "  <thead>\n",
       "    <tr style=\"text-align: right;\">\n",
       "      <th></th>\n",
       "      <th>product_id</th>\n",
       "      <th>product_name</th>\n",
       "      <th>price</th>\n",
       "      <th>category</th>\n",
       "      <th>sub_category</th>\n",
       "      <th>specifications</th>\n",
       "      <th>ratings</th>\n",
       "      <th>discount</th>\n",
       "      <th>moreinfo</th>\n",
       "    </tr>\n",
       "  </thead>\n",
       "  <tbody>\n",
       "    <tr>\n",
       "      <th>0</th>\n",
       "      <td>ECMB000001</td>\n",
       "      <td>Redmi 9A (SeaBlue, 32 GB)</td>\n",
       "      <td>₹7,413</td>\n",
       "      <td>Electronics</td>\n",
       "      <td>Mobile</td>\n",
       "      <td>2 GB RAM | 32 GB ROM16.59 cm (6.53 inch) Full ...</td>\n",
       "      <td>4.3</td>\n",
       "      <td>3.0</td>\n",
       "      <td>/redmi-9a-seablue-32-gb/p/itmeabd39a0cd669?pid...</td>\n",
       "    </tr>\n",
       "    <tr>\n",
       "      <th>1</th>\n",
       "      <td>ECMB000002</td>\n",
       "      <td>Redmi 9A (Midnight Black, 32 GB)</td>\n",
       "      <td>₹7,421</td>\n",
       "      <td>Electronics</td>\n",
       "      <td>Mobile</td>\n",
       "      <td>2 GB RAM | 32 GB ROM16.59 cm (6.53 inch) Full ...</td>\n",
       "      <td>4.3</td>\n",
       "      <td>3.0</td>\n",
       "      <td>/redmi-9a-midnight-black-32-gb/p/itmeabd39a0cd...</td>\n",
       "    </tr>\n",
       "    <tr>\n",
       "      <th>2</th>\n",
       "      <td>ECMB000003</td>\n",
       "      <td>Redmi 9A (Nature Green, 32 GB)</td>\n",
       "      <td>₹7,384</td>\n",
       "      <td>Electronics</td>\n",
       "      <td>Mobile</td>\n",
       "      <td>2 GB RAM | 32 GB ROM16.59 cm (6.53 inch) Full ...</td>\n",
       "      <td>4.3</td>\n",
       "      <td>4.0</td>\n",
       "      <td>/redmi-9a-nature-green-32-gb/p/itmeabd39a0cd66...</td>\n",
       "    </tr>\n",
       "    <tr>\n",
       "      <th>3</th>\n",
       "      <td>ECMB000004</td>\n",
       "      <td>Redmi 9 (Carbon Black, 64 GB)</td>\n",
       "      <td>₹10,745</td>\n",
       "      <td>Electronics</td>\n",
       "      <td>Mobile</td>\n",
       "      <td>4 GB RAM | 64 GB ROM16.59 cm (6.53 inch) HD+ D...</td>\n",
       "      <td>4.2</td>\n",
       "      <td>None</td>\n",
       "      <td>/redmi-9-carbon-black-64-gb/p/itm4fb151383983b...</td>\n",
       "    </tr>\n",
       "    <tr>\n",
       "      <th>4</th>\n",
       "      <td>ECMB000005</td>\n",
       "      <td>Redmi 9 (Sky Blue, 64 GB)</td>\n",
       "      <td>₹10,489</td>\n",
       "      <td>Electronics</td>\n",
       "      <td>Mobile</td>\n",
       "      <td>4 GB RAM | 64 GB ROM16.59 cm (6.53 inch) HD+ D...</td>\n",
       "      <td>4.2</td>\n",
       "      <td>None</td>\n",
       "      <td>/redmi-9-sky-blue-64-gb/p/itm4fb151383983b?pid...</td>\n",
       "    </tr>\n",
       "  </tbody>\n",
       "</table>\n",
       "</div>"
      ],
      "text/plain": [
       "   product_id                      product_name    price     category  \\\n",
       "0  ECMB000001         Redmi 9A (SeaBlue, 32 GB)   ₹7,413  Electronics   \n",
       "1  ECMB000002  Redmi 9A (Midnight Black, 32 GB)   ₹7,421  Electronics   \n",
       "2  ECMB000003    Redmi 9A (Nature Green, 32 GB)   ₹7,384  Electronics   \n",
       "3  ECMB000004     Redmi 9 (Carbon Black, 64 GB)  ₹10,745  Electronics   \n",
       "4  ECMB000005         Redmi 9 (Sky Blue, 64 GB)  ₹10,489  Electronics   \n",
       "\n",
       "  sub_category                                     specifications ratings  \\\n",
       "0       Mobile  2 GB RAM | 32 GB ROM16.59 cm (6.53 inch) Full ...     4.3   \n",
       "1       Mobile  2 GB RAM | 32 GB ROM16.59 cm (6.53 inch) Full ...     4.3   \n",
       "2       Mobile  2 GB RAM | 32 GB ROM16.59 cm (6.53 inch) Full ...     4.3   \n",
       "3       Mobile  4 GB RAM | 64 GB ROM16.59 cm (6.53 inch) HD+ D...     4.2   \n",
       "4       Mobile  4 GB RAM | 64 GB ROM16.59 cm (6.53 inch) HD+ D...     4.2   \n",
       "\n",
       "  discount                                           moreinfo  \n",
       "0      3.0  /redmi-9a-seablue-32-gb/p/itmeabd39a0cd669?pid...  \n",
       "1      3.0  /redmi-9a-midnight-black-32-gb/p/itmeabd39a0cd...  \n",
       "2      4.0  /redmi-9a-nature-green-32-gb/p/itmeabd39a0cd66...  \n",
       "3     None  /redmi-9-carbon-black-64-gb/p/itm4fb151383983b...  \n",
       "4     None  /redmi-9-sky-blue-64-gb/p/itm4fb151383983b?pid...  "
      ]
     },
     "execution_count": 3,
     "metadata": {},
     "output_type": "execute_result"
    }
   ],
   "source": [
    "items.head()"
   ]
  },
  {
   "cell_type": "code",
   "execution_count": 4,
   "metadata": {},
   "outputs": [
    {
     "name": "stdout",
     "output_type": "stream",
     "text": [
      "<class 'pandas.core.frame.DataFrame'>\n",
      "RangeIndex: 82 entries, 0 to 81\n",
      "Data columns (total 9 columns):\n",
      " #   Column          Non-Null Count  Dtype \n",
      "---  ------          --------------  ----- \n",
      " 0   product_id      82 non-null     object\n",
      " 1   product_name    82 non-null     object\n",
      " 2   price           82 non-null     object\n",
      " 3   category        82 non-null     object\n",
      " 4   sub_category    82 non-null     object\n",
      " 5   specifications  82 non-null     object\n",
      " 6   ratings         82 non-null     object\n",
      " 7   discount        34 non-null     object\n",
      " 8   moreinfo        82 non-null     object\n",
      "dtypes: object(9)\n",
      "memory usage: 5.9+ KB\n"
     ]
    }
   ],
   "source": [
    "items.info()"
   ]
  },
  {
   "cell_type": "code",
   "execution_count": 5,
   "metadata": {},
   "outputs": [],
   "source": [
    "\n",
    "df = pd.read_sql_query(\"SELECT * from ECMB000001\", con)\n",
    "\n",
    "for i in range(2, len(items) + 1):\n",
    "\n",
    "    df_temp = pd.read_sql_query(\"SELECT * from ECMB{:06d}\".format(i), con)\n",
    "    df = pd.concat([df, df_temp])\n",
    "con.close()"
   ]
  },
  {
   "cell_type": "code",
   "execution_count": 6,
   "metadata": {},
   "outputs": [
    {
     "name": "stdout",
     "output_type": "stream",
     "text": [
      "<class 'pandas.core.frame.DataFrame'>\n",
      "Int64Index: 53493 entries, 0 to 289\n",
      "Data columns (total 8 columns):\n",
      " #   Column      Non-Null Count  Dtype \n",
      "---  ------      --------------  ----- \n",
      " 0   product_id  53493 non-null  object\n",
      " 1   review_id   53493 non-null  object\n",
      " 2   title       53493 non-null  object\n",
      " 3   review      53493 non-null  object\n",
      " 4   likes       53493 non-null  object\n",
      " 5   dislikes    53493 non-null  object\n",
      " 6   ratings     48488 non-null  object\n",
      " 7   reviewer    53493 non-null  object\n",
      "dtypes: object(8)\n",
      "memory usage: 3.7+ MB\n"
     ]
    }
   ],
   "source": [
    "df.info()"
   ]
  },
  {
   "cell_type": "code",
   "execution_count": 7,
   "metadata": {},
   "outputs": [
    {
     "data": {
      "text/html": [
       "<div>\n",
       "<style scoped>\n",
       "    .dataframe tbody tr th:only-of-type {\n",
       "        vertical-align: middle;\n",
       "    }\n",
       "\n",
       "    .dataframe tbody tr th {\n",
       "        vertical-align: top;\n",
       "    }\n",
       "\n",
       "    .dataframe thead th {\n",
       "        text-align: right;\n",
       "    }\n",
       "</style>\n",
       "<table border=\"1\" class=\"dataframe\">\n",
       "  <thead>\n",
       "    <tr style=\"text-align: right;\">\n",
       "      <th></th>\n",
       "      <th>product_id</th>\n",
       "      <th>review_id</th>\n",
       "      <th>title</th>\n",
       "      <th>review</th>\n",
       "      <th>likes</th>\n",
       "      <th>dislikes</th>\n",
       "      <th>ratings</th>\n",
       "      <th>reviewer</th>\n",
       "    </tr>\n",
       "  </thead>\n",
       "  <tbody>\n",
       "    <tr>\n",
       "      <th>0</th>\n",
       "      <td>ECMB000001</td>\n",
       "      <td>ECMB0000010000001</td>\n",
       "      <td>Excellent</td>\n",
       "      <td>Wow superb I love it❤️👍 battery backup so nice 👍👍</td>\n",
       "      <td>740</td>\n",
       "      <td>160</td>\n",
       "      <td>5</td>\n",
       "      <td>Abhishek Saini</td>\n",
       "    </tr>\n",
       "    <tr>\n",
       "      <th>1</th>\n",
       "      <td>ECMB000001</td>\n",
       "      <td>ECMB0000010000002</td>\n",
       "      <td>Worth the money</td>\n",
       "      <td>Mobile So Good In Range Redmi 9a Has Miui 12 L...</td>\n",
       "      <td>355</td>\n",
       "      <td>104</td>\n",
       "      <td>4</td>\n",
       "      <td>Dinesh Kumar Sahni</td>\n",
       "    </tr>\n",
       "    <tr>\n",
       "      <th>2</th>\n",
       "      <td>ECMB000001</td>\n",
       "      <td>ECMB0000010000003</td>\n",
       "      <td>Just wow!</td>\n",
       "      <td>Wonderful device and smart phone best camera b...</td>\n",
       "      <td>125</td>\n",
       "      <td>47</td>\n",
       "      <td>5</td>\n",
       "      <td>Flipkart Customer</td>\n",
       "    </tr>\n",
       "    <tr>\n",
       "      <th>3</th>\n",
       "      <td>ECMB000001</td>\n",
       "      <td>ECMB0000010000004</td>\n",
       "      <td>Simply awesome</td>\n",
       "      <td>Very good mobile. Value for money. Battery bac...</td>\n",
       "      <td>0</td>\n",
       "      <td>0</td>\n",
       "      <td>5</td>\n",
       "      <td>Amit Sen</td>\n",
       "    </tr>\n",
       "    <tr>\n",
       "      <th>4</th>\n",
       "      <td>ECMB000001</td>\n",
       "      <td>ECMB0000010000005</td>\n",
       "      <td>Highly recommended</td>\n",
       "      <td>Really great.... value for money...</td>\n",
       "      <td>90</td>\n",
       "      <td>15</td>\n",
       "      <td>5</td>\n",
       "      <td>Sudeshna pakira</td>\n",
       "    </tr>\n",
       "  </tbody>\n",
       "</table>\n",
       "</div>"
      ],
      "text/plain": [
       "   product_id          review_id               title  \\\n",
       "0  ECMB000001  ECMB0000010000001           Excellent   \n",
       "1  ECMB000001  ECMB0000010000002     Worth the money   \n",
       "2  ECMB000001  ECMB0000010000003           Just wow!   \n",
       "3  ECMB000001  ECMB0000010000004      Simply awesome   \n",
       "4  ECMB000001  ECMB0000010000005  Highly recommended   \n",
       "\n",
       "                                              review likes dislikes ratings  \\\n",
       "0  Wow superb I love it❤️👍 battery backup so nice 👍👍   740      160       5   \n",
       "1  Mobile So Good In Range Redmi 9a Has Miui 12 L...   355      104       4   \n",
       "2  Wonderful device and smart phone best camera b...   125       47       5   \n",
       "3  Very good mobile. Value for money. Battery bac...     0        0       5   \n",
       "4                Really great.... value for money...    90       15       5   \n",
       "\n",
       "             reviewer  \n",
       "0      Abhishek Saini  \n",
       "1  Dinesh Kumar Sahni  \n",
       "2   Flipkart Customer  \n",
       "3            Amit Sen  \n",
       "4     Sudeshna pakira  "
      ]
     },
     "execution_count": 7,
     "metadata": {},
     "output_type": "execute_result"
    }
   ],
   "source": [
    "df.head()"
   ]
  },
  {
   "cell_type": "code",
   "execution_count": 8,
   "metadata": {},
   "outputs": [
    {
     "data": {
      "text/plain": [
       "<Figure size 2500x2000 with 0 Axes>"
      ]
     },
     "metadata": {},
     "output_type": "display_data"
    },
    {
     "data": {
      "image/png": "[encoded data removed]",
      "text/plain": [
       "<Figure size 2500x1000 with 2 Axes>"
      ]
     },
     "metadata": {},
     "output_type": "display_data"
    }
   ],
   "source": [
    "import missingno as msno\n",
    "plt.figure(figsize=(25, 20))\n",
    "msno.matrix(df, color=[0.2, 0.4, 1])\n",
    "plt.show()"
   ]
  },
  {
   "cell_type": "code",
   "execution_count": 9,
   "metadata": {},
   "outputs": [
    {
     "name": "stdout",
     "output_type": "stream",
     "text": [
      "<class 'pandas.core.frame.DataFrame'>\n",
      "Int64Index: 48488 entries, 0 to 287\n",
      "Data columns (total 8 columns):\n",
      " #   Column      Non-Null Count  Dtype \n",
      "---  ------      --------------  ----- \n",
      " 0   product_id  48488 non-null  object\n",
      " 1   review_id   48488 non-null  object\n",
      " 2   title       48488 non-null  object\n",
      " 3   review      48488 non-null  object\n",
      " 4   likes       48488 non-null  object\n",
      " 5   dislikes    48488 non-null  object\n",
      " 6   ratings     48488 non-null  object\n",
      " 7   reviewer    48488 non-null  object\n",
      "dtypes: object(8)\n",
      "memory usage: 3.3+ MB\n"
     ]
    }
   ],
   "source": [
    "df.dropna(inplace=True, axis=0)\n",
    "df.info()\n"
   ]
  },
  {
   "cell_type": "code",
   "execution_count": 10,
   "metadata": {},
   "outputs": [
    {
     "data": {
      "text/plain": [
       "<Figure size 2500x2000 with 0 Axes>"
      ]
     },
     "metadata": {},
     "output_type": "display_data"
    },
    {
     "data": {
      "image/png": "[encoded data removed]",
      "text/plain": [
       "<Figure size 2500x1000 with 2 Axes>"
      ]
     },
     "metadata": {},
     "output_type": "display_data"
    }
   ],
   "source": [
    "plt.figure(figsize=(25, 20))\n",
    "msno.matrix(df, color=[0.2, 0.4, 1])\n",
    "plt.show()"
   ]
  },
  {
   "cell_type": "code",
   "execution_count": 11,
   "metadata": {},
   "outputs": [],
   "source": [
    "\n",
    "def remove_url(text):\n",
    "    text = re.sub(r\"http\\S+\", \"\", text)\n",
    "    return text"
   ]
  },
  {
   "cell_type": "code",
   "execution_count": 12,
   "metadata": {},
   "outputs": [],
   "source": [
    "import demoji\n",
    "\n",
    "\n",
    "def handle_emoji(string):\n",
    "    emojis = demoji.findall(string)\n",
    "\n",
    "    for emoji in emojis:\n",
    "        string = string.replace(emoji, \" \" + emojis[emoji].split(\":\")[0])\n",
    "\n",
    "    return string"
   ]
  },
  {
   "cell_type": "code",
   "execution_count": 13,
   "metadata": {},
   "outputs": [
    {
     "name": "stdout",
     "output_type": "stream",
     "text": [
      "Hi Everyone How are we all today.\n",
      "['hi', 'everyone', 'how', 'are', 'we', 'all', 'today.']\n"
     ]
    }
   ],
   "source": [
    "def word_tokenizer(text):\n",
    "    text = text.lower()\n",
    "    text = text.split()\n",
    "\n",
    "    return text\n",
    "\n",
    "\n",
    "sample = \"Hi Everyone How are we all today.\"\n",
    "print(sample)\n",
    "print(word_tokenizer(sample))"
   ]
  },
  {
   "cell_type": "code",
   "execution_count": 14,
   "metadata": {},
   "outputs": [],
   "source": [
    "from nltk.corpus import stopwords\n",
    "\n",
    "en_stopwords = set(stopwords.words('english'))"
   ]
  },
  {
   "cell_type": "code",
   "execution_count": 15,
   "metadata": {},
   "outputs": [],
   "source": [
    "def remove_stopwords(text):\n",
    "    text = [word for word in text if word not in en_stopwords]\n",
    "    return text\n"
   ]
  },
  {
   "cell_type": "code",
   "execution_count": 16,
   "metadata": {},
   "outputs": [],
   "source": [
    "from nltk.stem.porter import PorterStemmer\n",
    "from nltk.stem.lancaster import LancasterStemmer\n",
    "\n",
    "stemmer = PorterStemmer()\n",
    "# stemmer = LancasterStemmer()\n",
    "\n",
    "\n",
    "def stemming(text):\n",
    "    text = [stemmer.stem(word) for word in text]\n",
    "    return text\n"
   ]
  },
  {
   "cell_type": "code",
   "execution_count": 17,
   "metadata": {},
   "outputs": [],
   "source": [
    "import spacy\n",
    "\n",
    "sp = spacy.load(\"en_core_web_sm\")"
   ]
  },
  {
   "cell_type": "code",
   "execution_count": 18,
   "metadata": {},
   "outputs": [],
   "source": [
    "def lemmatization(text):\n",
    "\n",
    "    # text = [sp(word).lemma_ for word in text]\n",
    "\n",
    "    text = \" \".join(text)\n",
    "    token = sp(text)\n",
    "\n",
    "    text = [word.lemma_ for word in token]\n",
    "    return text"
   ]
  },
  {
   "cell_type": "code",
   "execution_count": 19,
   "metadata": {},
   "outputs": [],
   "source": [
    "df_temp = df.copy()"
   ]
  },
  {
   "cell_type": "code",
   "execution_count": 20,
   "metadata": {},
   "outputs": [
    {
     "name": "stderr",
     "output_type": "stream",
     "text": [
      "100%|██████████| 48488/48488 [00:00<00:00, 1225827.80it/s]\n"
     ]
    }
   ],
   "source": [
    "\n",
    "def label(y):\n",
    "    if y == '5':\n",
    "        return 1\n",
    "    elif y == '4':\n",
    "        return 1\n",
    "    else:\n",
    "        return 0\n",
    "    \n",
    "from tqdm import tqdm\n",
    "\n",
    "tqdm.pandas()\n",
    "\n",
    "df_temp['y'] = df_temp.ratings.progress_map(label)"
   ]
  },
  {
   "cell_type": "code",
   "execution_count": 21,
   "metadata": {},
   "outputs": [],
   "source": [
    "df_temp = df_temp[['review', 'y', 'ratings']]"
   ]
  },
  {
   "cell_type": "code",
   "execution_count": 22,
   "metadata": {},
   "outputs": [
    {
     "data": {
      "text/html": [
       "<div>\n",
       "<style scoped>\n",
       "    .dataframe tbody tr th:only-of-type {\n",
       "        vertical-align: middle;\n",
       "    }\n",
       "\n",
       "    .dataframe tbody tr th {\n",
       "        vertical-align: top;\n",
       "    }\n",
       "\n",
       "    .dataframe thead th {\n",
       "        text-align: right;\n",
       "    }\n",
       "</style>\n",
       "<table border=\"1\" class=\"dataframe\">\n",
       "  <thead>\n",
       "    <tr style=\"text-align: right;\">\n",
       "      <th></th>\n",
       "      <th>review</th>\n",
       "      <th>y</th>\n",
       "      <th>ratings</th>\n",
       "    </tr>\n",
       "  </thead>\n",
       "  <tbody>\n",
       "    <tr>\n",
       "      <th>0</th>\n",
       "      <td>Wow superb I love it❤️👍 battery backup so nice 👍👍</td>\n",
       "      <td>1</td>\n",
       "      <td>5</td>\n",
       "    </tr>\n",
       "    <tr>\n",
       "      <th>1</th>\n",
       "      <td>Mobile So Good In Range Redmi 9a Has Miui 12 L...</td>\n",
       "      <td>1</td>\n",
       "      <td>4</td>\n",
       "    </tr>\n",
       "    <tr>\n",
       "      <th>2</th>\n",
       "      <td>Wonderful device and smart phone best camera b...</td>\n",
       "      <td>1</td>\n",
       "      <td>5</td>\n",
       "    </tr>\n",
       "    <tr>\n",
       "      <th>3</th>\n",
       "      <td>Very good mobile. Value for money. Battery bac...</td>\n",
       "      <td>1</td>\n",
       "      <td>5</td>\n",
       "    </tr>\n",
       "    <tr>\n",
       "      <th>4</th>\n",
       "      <td>Really great.... value for money...</td>\n",
       "      <td>1</td>\n",
       "      <td>5</td>\n",
       "    </tr>\n",
       "  </tbody>\n",
       "</table>\n",
       "</div>"
      ],
      "text/plain": [
       "                                              review  y ratings\n",
       "0  Wow superb I love it❤️👍 battery backup so nice 👍👍  1       5\n",
       "1  Mobile So Good In Range Redmi 9a Has Miui 12 L...  1       4\n",
       "2  Wonderful device and smart phone best camera b...  1       5\n",
       "3  Very good mobile. Value for money. Battery bac...  1       5\n",
       "4                Really great.... value for money...  1       5"
      ]
     },
     "execution_count": 22,
     "metadata": {},
     "output_type": "execute_result"
    }
   ],
   "source": [
    "df_temp.head()"
   ]
  },
  {
   "cell_type": "code",
   "execution_count": 23,
   "metadata": {},
   "outputs": [
    {
     "data": {
      "text/plain": [
       "1    44751\n",
       "0     3737\n",
       "Name: y, dtype: int64"
      ]
     },
     "execution_count": 23,
     "metadata": {},
     "output_type": "execute_result"
    }
   ],
   "source": [
    "df_temp.y.value_counts()"
   ]
  },
  {
   "cell_type": "code",
   "execution_count": 24,
   "metadata": {},
   "outputs": [
    {
     "data": {
      "image/png": "[encoded data removed]",
      "text/plain": [
       "<Figure size 640x480 with 1 Axes>"
      ]
     },
     "metadata": {},
     "output_type": "display_data"
    }
   ],
   "source": [
    "import seaborn as sns\n",
    "\n",
    "sns.countplot(x = \"y\", data = df_temp)\n",
    "plt.show()"
   ]
  },
  {
   "cell_type": "code",
   "execution_count": 25,
   "metadata": {},
   "outputs": [],
   "source": [
    "df_temp2 = df_temp[(df_temp['ratings'] == '5')]"
   ]
  },
  {
   "cell_type": "code",
   "execution_count": 26,
   "metadata": {},
   "outputs": [
    {
     "data": {
      "text/plain": [
       "4803"
      ]
     },
     "execution_count": 26,
     "metadata": {},
     "output_type": "execute_result"
    }
   ],
   "source": [
    "positive = list(df_temp2[(df_temp2['review'].str.len() > 100) & (df_temp2['review'].str.len() < 350)]['review'])\n",
    "len(positive)"
   ]
  },
  {
   "cell_type": "code",
   "execution_count": 27,
   "metadata": {},
   "outputs": [],
   "source": [
    "import nlpaug.augmenter.word as naw"
   ]
  },
  {
   "cell_type": "code",
   "execution_count": 28,
   "metadata": {},
   "outputs": [
    {
     "data": {
      "text/plain": [
       "[\"An amazing smartphone for the price though i didn't like the colors compared to a realme phone in the same price range. It's a reall good second smartphone if you already have a primary device.\",\n",
       " \"Nice product according to its budget. But it's hard to play high Graphics games like pubg on 3GB RAM. It lags even when you play at Smooth Graphics settings. If this is for gaming (High graphics game) purpose, then don't go for 3GB or 2 GB RAM and the rest it works very well.\",\n",
       " 'I gave this phone to my wife as a gift and she loved it so much that she gets great performance and photos of games',\n",
       " 'Every thing is great about the phone but a micro USB connector with a 5000 mah battery kind of suck a type c connector would have been better',\n",
       " 'Very good handset at this price. Nice and great performance. Battery backup is also trustworthy. There is no issue till date after using for a period of 5days. Overall u can buy this phone without hesitation',\n",
       " 'I am happy with your productus policy of discount  and best service flipcart.we wish day by day growth. And give more and more service from your sight.           ThanksHasmukh patel.Ahmedabad. Gujarat',\n",
       " \"Mobile phone is Good..  good camera clarity.. I have one problem with the phone, when I do video calling there is lot of noise, so I can't hear properly, lot of sound disturbance, but when I do voice call.. the sound is clear..\",\n",
       " \"An amazing smartphone for the price though i didn't like the colors compared to a realme phone in the same price range. It's a reall good second smartphone if you already have a primary device.\"]"
      ]
     },
     "execution_count": 28,
     "metadata": {},
     "output_type": "execute_result"
    }
   ],
   "source": [
    "positive[41:49]"
   ]
  },
  {
   "cell_type": "code",
   "execution_count": 29,
   "metadata": {},
   "outputs": [],
   "source": [
    "aug = naw.AntonymAug(name='Antonym_Aug', aug_min=1, aug_max=10, aug_p=0.3, lang='eng', stopwords=en_stopwords, tokenizer=None, \n",
    "                     reverse_tokenizer=None, stopwords_regex=None, verbose=0)\n",
    " \n",
    "aug_negative = aug.augment(positive)"
   ]
  },
  {
   "cell_type": "code",
   "execution_count": 30,
   "metadata": {},
   "outputs": [
    {
     "data": {
      "text/plain": [
       "4803"
      ]
     },
     "execution_count": 30,
     "metadata": {},
     "output_type": "execute_result"
    }
   ],
   "source": [
    "len(aug_negative)"
   ]
  },
  {
   "cell_type": "code",
   "execution_count": 31,
   "metadata": {},
   "outputs": [
    {
     "data": {
      "text/plain": [
       "[\"An amazing smartphone for the price though i didn ' t like the colors compared to a realme phone in the same price range. It ' s a reall evil second smartphone if you already have a secondary device.\",\n",
       " \"Nice product according to its budget. But it ' s hard to play low Graphics games like pubg on 3GB RAM. It lags even when you play at Smooth Graphics settings. If this is for gaming (Low graphics game) purpose, then don ' t be born for 3GB or 2 GB RAM and the rest it malfunction very badly.\",\n",
       " 'I starve this phone to my wife as a gift and she hate it so little that she end great performance and photos of games',\n",
       " 'Every thing is great about the phone but a micro USB connector with a 5000 mah battery kind of suck a type c connector would have been ill',\n",
       " 'Very evil handset at this price. Nice and great performance. Battery backup is also untrustworthy. There is no issue till date after using for a period of 5days. Overall u can sell this phone without hesitation',\n",
       " 'I am unhappy with your productus policy of discount and evil service flipcart. we wish day by day growth. And take more and more service from your sight. ThanksHasmukh patel. Ahmedabad. Gujarat',\n",
       " \"Mobile phone is Evil. . bad camera clarity. . I have one problem with the phone, when I do video calling there is lot of noise, so I can ' t hear improperly, lot of unsound disturbance, but when I do voice call. . the sound is ill defined..\",\n",
       " \"An amazing smartphone for the price though i didn ' t like the colors compared to a realme phone in the same price range. It ' s a reall bad second smartphone if you already have a secondary device.\"]"
      ]
     },
     "execution_count": 31,
     "metadata": {},
     "output_type": "execute_result"
    }
   ],
   "source": [
    "aug_negative[41:49]"
   ]
  },
  {
   "cell_type": "code",
   "execution_count": 32,
   "metadata": {},
   "outputs": [],
   "source": [
    "df_negative = pd.DataFrame({\"review\" : aug_negative, 'y' : [0]*len(aug_negative)})"
   ]
  },
  {
   "cell_type": "code",
   "execution_count": 33,
   "metadata": {},
   "outputs": [],
   "source": [
    "df_positive = pd.DataFrame({\"review\" : positive, 'y' : [1]*len(positive)})"
   ]
  },
  {
   "cell_type": "code",
   "execution_count": 34,
   "metadata": {},
   "outputs": [],
   "source": [
    "df_temp = pd.concat([df_negative, df_positive]).sample(frac = 1, random_state = 11).reset_index(drop=True)"
   ]
  },
  {
   "cell_type": "code",
   "execution_count": 35,
   "metadata": {},
   "outputs": [
    {
     "name": "stdout",
     "output_type": "stream",
     "text": [
      "<class 'pandas.core.frame.DataFrame'>\n",
      "RangeIndex: 9606 entries, 0 to 9605\n",
      "Data columns (total 2 columns):\n",
      " #   Column  Non-Null Count  Dtype \n",
      "---  ------  --------------  ----- \n",
      " 0   review  9606 non-null   object\n",
      " 1   y       9606 non-null   int64 \n",
      "dtypes: int64(1), object(1)\n",
      "memory usage: 150.2+ KB\n"
     ]
    }
   ],
   "source": [
    "df_temp.info()"
   ]
  },
  {
   "cell_type": "code",
   "execution_count": 36,
   "metadata": {},
   "outputs": [
    {
     "data": {
      "text/html": [
       "<div>\n",
       "<style scoped>\n",
       "    .dataframe tbody tr th:only-of-type {\n",
       "        vertical-align: middle;\n",
       "    }\n",
       "\n",
       "    .dataframe tbody tr th {\n",
       "        vertical-align: top;\n",
       "    }\n",
       "\n",
       "    .dataframe thead th {\n",
       "        text-align: right;\n",
       "    }\n",
       "</style>\n",
       "<table border=\"1\" class=\"dataframe\">\n",
       "  <thead>\n",
       "    <tr style=\"text-align: right;\">\n",
       "      <th></th>\n",
       "      <th>review</th>\n",
       "      <th>y</th>\n",
       "    </tr>\n",
       "  </thead>\n",
       "  <tbody>\n",
       "    <tr>\n",
       "      <th>0</th>\n",
       "      <td>great phone in budget. .. pubg performance was...</td>\n",
       "      <td>0</td>\n",
       "    </tr>\n",
       "    <tr>\n",
       "      <th>1</th>\n",
       "      <td>Best Smartphone by Mi in this Range. . stay in...</td>\n",
       "      <td>0</td>\n",
       "    </tr>\n",
       "    <tr>\n",
       "      <th>2</th>\n",
       "      <td>Bad smooth phone. . and back camera quality is...</td>\n",
       "      <td>0</td>\n",
       "    </tr>\n",
       "    <tr>\n",
       "      <th>3</th>\n",
       "      <td>Thise is very nice mobile ...I like it very mu...</td>\n",
       "      <td>1</td>\n",
       "    </tr>\n",
       "    <tr>\n",
       "      <th>4</th>\n",
       "      <td>I m meagerly dissatisfy 👍 All section r superb...</td>\n",
       "      <td>0</td>\n",
       "    </tr>\n",
       "  </tbody>\n",
       "</table>\n",
       "</div>"
      ],
      "text/plain": [
       "                                              review  y\n",
       "0  great phone in budget. .. pubg performance was...  0\n",
       "1  Best Smartphone by Mi in this Range. . stay in...  0\n",
       "2  Bad smooth phone. . and back camera quality is...  0\n",
       "3  Thise is very nice mobile ...I like it very mu...  1\n",
       "4  I m meagerly dissatisfy 👍 All section r superb...  0"
      ]
     },
     "execution_count": 36,
     "metadata": {},
     "output_type": "execute_result"
    }
   ],
   "source": [
    "df_temp.head()"
   ]
  },
  {
   "cell_type": "code",
   "execution_count": 37,
   "metadata": {},
   "outputs": [],
   "source": [
    "df = df_temp"
   ]
  },
  {
   "cell_type": "code",
   "execution_count": 38,
   "metadata": {},
   "outputs": [],
   "source": [
    "import unicodedata\n",
    "\n",
    "\n",
    "def preprocessing(text):\n",
    "    \n",
    "    text = remove_url(text) \n",
    "    text = unicodedata.normalize('NFKD', text)\n",
    "    text = handle_emoji(text)\n",
    "    text = text.lower() \n",
    "    text = re.sub(r'[^\\w\\s]', '', text)\n",
    "    text = word_tokenizer(text)\n",
    "    # text = stemming(text)\n",
    "    text = lemmatization(text)\n",
    "    text = remove_stopwords(text)\n",
    "    text = \" \".join(text)\n",
    "\n",
    "    return text"
   ]
  },
  {
   "cell_type": "code",
   "execution_count": 39,
   "metadata": {},
   "outputs": [
    {
     "name": "stderr",
     "output_type": "stream",
     "text": [
      "100%|██████████| 9606/9606 [01:26<00:00, 111.31it/s]\n"
     ]
    }
   ],
   "source": [
    "from tqdm import tqdm\n",
    "\n",
    "tqdm.pandas()\n",
    "\n",
    "df['clean_review'] = df['review'].progress_map(preprocessing)"
   ]
  },
  {
   "cell_type": "code",
   "execution_count": 40,
   "metadata": {},
   "outputs": [
    {
     "data": {
      "text/html": [
       "<div>\n",
       "<style scoped>\n",
       "    .dataframe tbody tr th:only-of-type {\n",
       "        vertical-align: middle;\n",
       "    }\n",
       "\n",
       "    .dataframe tbody tr th {\n",
       "        vertical-align: top;\n",
       "    }\n",
       "\n",
       "    .dataframe thead th {\n",
       "        text-align: right;\n",
       "    }\n",
       "</style>\n",
       "<table border=\"1\" class=\"dataframe\">\n",
       "  <thead>\n",
       "    <tr style=\"text-align: right;\">\n",
       "      <th></th>\n",
       "      <th>review</th>\n",
       "      <th>y</th>\n",
       "      <th>clean_review</th>\n",
       "    </tr>\n",
       "  </thead>\n",
       "  <tbody>\n",
       "    <tr>\n",
       "      <th>0</th>\n",
       "      <td>great phone in budget. .. pubg performance was...</td>\n",
       "      <td>0</td>\n",
       "      <td>great phone budget pubg performance rough came...</td>\n",
       "    </tr>\n",
       "    <tr>\n",
       "      <th>1</th>\n",
       "      <td>Best Smartphone by Mi in this Range. . stay in...</td>\n",
       "      <td>0</td>\n",
       "      <td>well smartphone mi range stay place r confuse ...</td>\n",
       "    </tr>\n",
       "    <tr>\n",
       "      <th>2</th>\n",
       "      <td>Bad smooth phone. . and back camera quality is...</td>\n",
       "      <td>0</td>\n",
       "      <td>bad smooth phone back camera quality evil rear...</td>\n",
       "    </tr>\n",
       "    <tr>\n",
       "      <th>3</th>\n",
       "      <td>Thise is very nice mobile ...I like it very mu...</td>\n",
       "      <td>1</td>\n",
       "      <td>thise nice mobile I like much delivery also fa...</td>\n",
       "    </tr>\n",
       "    <tr>\n",
       "      <th>4</th>\n",
       "      <td>I m meagerly dissatisfy 👍 All section r superb...</td>\n",
       "      <td>0</td>\n",
       "      <td>I meagerly dissatisfy thumb section r superb d...</td>\n",
       "    </tr>\n",
       "  </tbody>\n",
       "</table>\n",
       "</div>"
      ],
      "text/plain": [
       "                                              review  y  \\\n",
       "0  great phone in budget. .. pubg performance was...  0   \n",
       "1  Best Smartphone by Mi in this Range. . stay in...  0   \n",
       "2  Bad smooth phone. . and back camera quality is...  0   \n",
       "3  Thise is very nice mobile ...I like it very mu...  1   \n",
       "4  I m meagerly dissatisfy 👍 All section r superb...  0   \n",
       "\n",
       "                                        clean_review  \n",
       "0  great phone budget pubg performance rough came...  \n",
       "1  well smartphone mi range stay place r confuse ...  \n",
       "2  bad smooth phone back camera quality evil rear...  \n",
       "3  thise nice mobile I like much delivery also fa...  \n",
       "4  I meagerly dissatisfy thumb section r superb d...  "
      ]
     },
     "execution_count": 40,
     "metadata": {},
     "output_type": "execute_result"
    }
   ],
   "source": [
    "df.head()"
   ]
  },
  {
   "cell_type": "code",
   "execution_count": 41,
   "metadata": {},
   "outputs": [],
   "source": [
    "reviews = df.clean_review.values.tolist()"
   ]
  },
  {
   "cell_type": "code",
   "execution_count": 42,
   "metadata": {},
   "outputs": [
    {
     "name": "stderr",
     "output_type": "stream",
     "text": [
      "100%|██████████| 9606/9606 [00:00<00:00, 32423.35it/s]\n"
     ]
    }
   ],
   "source": [
    "from tqdm import tqdm\n",
    "\n",
    "tqdm.pandas()\n",
    "\n",
    "df['clean_review2'] = df['clean_review'].progress_map(word_tokenizer)"
   ]
  },
  {
   "cell_type": "code",
   "execution_count": 43,
   "metadata": {},
   "outputs": [
    {
     "data": {
      "text/html": [
       "<div>\n",
       "<style scoped>\n",
       "    .dataframe tbody tr th:only-of-type {\n",
       "        vertical-align: middle;\n",
       "    }\n",
       "\n",
       "    .dataframe tbody tr th {\n",
       "        vertical-align: top;\n",
       "    }\n",
       "\n",
       "    .dataframe thead th {\n",
       "        text-align: right;\n",
       "    }\n",
       "</style>\n",
       "<table border=\"1\" class=\"dataframe\">\n",
       "  <thead>\n",
       "    <tr style=\"text-align: right;\">\n",
       "      <th></th>\n",
       "      <th>review</th>\n",
       "      <th>y</th>\n",
       "      <th>clean_review</th>\n",
       "      <th>clean_review2</th>\n",
       "    </tr>\n",
       "  </thead>\n",
       "  <tbody>\n",
       "    <tr>\n",
       "      <th>0</th>\n",
       "      <td>great phone in budget. .. pubg performance was...</td>\n",
       "      <td>0</td>\n",
       "      <td>great phone budget pubg performance rough came...</td>\n",
       "      <td>[great, phone, budget, pubg, performance, roug...</td>\n",
       "    </tr>\n",
       "    <tr>\n",
       "      <th>1</th>\n",
       "      <td>Best Smartphone by Mi in this Range. . stay in...</td>\n",
       "      <td>0</td>\n",
       "      <td>well smartphone mi range stay place r confuse ...</td>\n",
       "      <td>[well, smartphone, mi, range, stay, place, r, ...</td>\n",
       "    </tr>\n",
       "    <tr>\n",
       "      <th>2</th>\n",
       "      <td>Bad smooth phone. . and back camera quality is...</td>\n",
       "      <td>0</td>\n",
       "      <td>bad smooth phone back camera quality evil rear...</td>\n",
       "      <td>[bad, smooth, phone, back, camera, quality, ev...</td>\n",
       "    </tr>\n",
       "    <tr>\n",
       "      <th>3</th>\n",
       "      <td>Thise is very nice mobile ...I like it very mu...</td>\n",
       "      <td>1</td>\n",
       "      <td>thise nice mobile I like much delivery also fa...</td>\n",
       "      <td>[thise, nice, mobile, i, like, much, delivery,...</td>\n",
       "    </tr>\n",
       "    <tr>\n",
       "      <th>4</th>\n",
       "      <td>I m meagerly dissatisfy 👍 All section r superb...</td>\n",
       "      <td>0</td>\n",
       "      <td>I meagerly dissatisfy thumb section r superb d...</td>\n",
       "      <td>[i, meagerly, dissatisfy, thumb, section, r, s...</td>\n",
       "    </tr>\n",
       "  </tbody>\n",
       "</table>\n",
       "</div>"
      ],
      "text/plain": [
       "                                              review  y  \\\n",
       "0  great phone in budget. .. pubg performance was...  0   \n",
       "1  Best Smartphone by Mi in this Range. . stay in...  0   \n",
       "2  Bad smooth phone. . and back camera quality is...  0   \n",
       "3  Thise is very nice mobile ...I like it very mu...  1   \n",
       "4  I m meagerly dissatisfy 👍 All section r superb...  0   \n",
       "\n",
       "                                        clean_review  \\\n",
       "0  great phone budget pubg performance rough came...   \n",
       "1  well smartphone mi range stay place r confuse ...   \n",
       "2  bad smooth phone back camera quality evil rear...   \n",
       "3  thise nice mobile I like much delivery also fa...   \n",
       "4  I meagerly dissatisfy thumb section r superb d...   \n",
       "\n",
       "                                       clean_review2  \n",
       "0  [great, phone, budget, pubg, performance, roug...  \n",
       "1  [well, smartphone, mi, range, stay, place, r, ...  \n",
       "2  [bad, smooth, phone, back, camera, quality, ev...  \n",
       "3  [thise, nice, mobile, i, like, much, delivery,...  \n",
       "4  [i, meagerly, dissatisfy, thumb, section, r, s...  "
      ]
     },
     "execution_count": 43,
     "metadata": {},
     "output_type": "execute_result"
    }
   ],
   "source": [
    "df.head()"
   ]
  },
  {
   "cell_type": "code",
   "execution_count": 44,
   "metadata": {},
   "outputs": [
    {
     "data": {
      "text/plain": [
       "9606"
      ]
     },
     "execution_count": 44,
     "metadata": {},
     "output_type": "execute_result"
    }
   ],
   "source": [
    "data_words = df['clean_review2'].values.tolist()\n",
    "len(data_words)"
   ]
  },
  {
   "cell_type": "code",
   "execution_count": 45,
   "metadata": {},
   "outputs": [
    {
     "name": "stdout",
     "output_type": "stream",
     "text": [
      "[(0, 1), (1, 1), (2, 1), (3, 1), (4, 1), (5, 1), (6, 1), (7, 1), (8, 1), (9, 1), (10, 1), (11, 3), (12, 1), (13, 1), (14, 1), (15, 1), (16, 1)]\n"
     ]
    }
   ],
   "source": [
    "import gensim.corpora as corpora\n",
    "\n",
    "# Create Dictionary\n",
    "id2word = corpora.Dictionary(data_words)\n",
    "# Create Corpus\n",
    "texts = data_words\n",
    "# Term Document Frequency\n",
    "corpus = [id2word.doc2bow(text) for text in texts]\n",
    "# View\n",
    "print(corpus[:1][0][:30])"
   ]
  },
  {
   "cell_type": "code",
   "execution_count": 46,
   "metadata": {},
   "outputs": [
    {
     "name": "stdout",
     "output_type": "stream",
     "text": [
      "[(0,\n",
      "  '0.036*\"i\" + 0.027*\"phone\" + 0.024*\"camera\" + 0.022*\"evil\" + 0.022*\"bad\" + '\n",
      "  '0.019*\"battery\" + 0.015*\"flipkart\" + 0.014*\"amazing\" + 0.014*\"price\" + '\n",
      "  '0.013*\"product\"'),\n",
      " (1,\n",
      "  '0.048*\"phone\" + 0.036*\"good\" + 0.018*\"i\" + 0.017*\"camera\" + 0.014*\"great\" + '\n",
      "  '0.014*\"price\" + 0.014*\"battery\" + 0.012*\"product\" + 0.012*\"money\" + '\n",
      "  '0.011*\"smile\"'),\n",
      " (2,\n",
      "  '0.037*\"phone\" + 0.034*\"i\" + 0.025*\"camera\" + 0.022*\"nice\" + 0.020*\"good\" + '\n",
      "  '0.017*\"thank\" + 0.016*\"product\" + 0.013*\"mobile\" + 0.013*\"quality\" + '\n",
      "  '0.012*\"awesome\"'),\n",
      " (3,\n",
      "  '0.045*\"phone\" + 0.039*\"i\" + 0.035*\"good\" + 0.017*\"camera\" + 0.017*\"battery\" '\n",
      "  '+ 0.013*\"price\" + 0.012*\"bad\" + 0.011*\"redmi\" + 0.010*\"product\" + '\n",
      "  '0.010*\"evil\"'),\n",
      " (4,\n",
      "  '0.029*\"face\" + 0.028*\"camera\" + 0.023*\"evil\" + 0.020*\"smile\" + '\n",
      "  '0.020*\"heart\" + 0.019*\"good\" + 0.016*\"i\" + 0.016*\"phone\" + 0.015*\"battery\" '\n",
      "  '+ 0.014*\"mobile\"'),\n",
      " (5,\n",
      "  '0.054*\"phone\" + 0.036*\"good\" + 0.030*\"i\" + 0.029*\"camera\" + 0.023*\"bad\" + '\n",
      "  '0.018*\"mobile\" + 0.017*\"battery\" + 0.016*\"price\" + 0.015*\"awesome\" + '\n",
      "  '0.011*\"use\"'),\n",
      " (6,\n",
      "  '0.034*\"i\" + 0.026*\"bad\" + 0.025*\"evil\" + 0.023*\"battery\" + 0.022*\"camera\" + '\n",
      "  '0.021*\"phone\" + 0.019*\"product\" + 0.017*\"flipkart\" + 0.016*\"good\" + '\n",
      "  '0.014*\"awesome\"'),\n",
      " (7,\n",
      "  '0.039*\"good\" + 0.032*\"camera\" + 0.027*\"phone\" + 0.024*\"i\" + 0.016*\"price\" + '\n",
      "  '0.016*\"performance\" + 0.015*\"battery\" + 0.014*\"product\" + 0.012*\"face\" + '\n",
      "  '0.012*\"bad\"'),\n",
      " (8,\n",
      "  '0.043*\"i\" + 0.025*\"product\" + 0.019*\"mobile\" + 0.018*\"flipkart\" + '\n",
      "  '0.016*\"good\" + 0.014*\"bad\" + 0.013*\"price\" + 0.012*\"thank\" + 0.011*\"time\" + '\n",
      "  '0.010*\"phone\"'),\n",
      " (9,\n",
      "  '0.043*\"phone\" + 0.038*\"camera\" + 0.032*\"i\" + 0.030*\"good\" + 0.018*\"battery\" '\n",
      "  '+ 0.016*\"nice\" + 0.013*\"performance\" + 0.010*\"great\" + 0.010*\"flipkart\" + '\n",
      "  '0.010*\"display\"')]\n"
     ]
    }
   ],
   "source": [
    "from gensim.models import LdaMulticore\n",
    "from gensim.models import LdaModel\n",
    "from pprint import pprint\n",
    "\n",
    "# number of topics\n",
    "num_topics = 10\n",
    "# Build LDA model\n",
    "lda_model = LdaMulticore(corpus=corpus, id2word=id2word,\n",
    "                     num_topics=num_topics, iterations=400)\n",
    "# Print the Keyword in the 10 topics\n",
    "pprint(lda_model.print_topics())\n",
    "doc_lda = lda_model[corpus]"
   ]
  },
  {
   "cell_type": "code",
   "execution_count": 48,
   "metadata": {},
   "outputs": [
    {
     "name": "stdout",
     "output_type": "stream",
     "text": [
      "CPU times: total: 5.58 s\n",
      "Wall time: 3.1 s\n"
     ]
    }
   ],
   "source": [
    "%%time\n",
    "from gensim.models import FastText\n",
    "\n",
    "fasttext_model = FastText(data_words, vector_size= 100, window=5, min_count=5, workers=4,sg=1)"
   ]
  },
  {
   "cell_type": "code",
   "execution_count": 49,
   "metadata": {},
   "outputs": [
    {
     "data": {
      "text/plain": [
       "0.93956345"
      ]
     },
     "execution_count": 49,
     "metadata": {},
     "output_type": "execute_result"
    }
   ],
   "source": [
    "fasttext_model.wv.n_similarity(\"I really like the camera of this phone\", \"battery\")"
   ]
  },
  {
   "cell_type": "code",
   "execution_count": 50,
   "metadata": {},
   "outputs": [
    {
     "data": {
      "text/plain": [
       "0.8876815"
      ]
     },
     "execution_count": 50,
     "metadata": {},
     "output_type": "execute_result"
    }
   ],
   "source": [
    "fasttext_model.wv.n_similarity(\"I really like the camera of this phone\", \"camera\")"
   ]
  },
  {
   "cell_type": "code",
   "execution_count": 79,
   "metadata": {},
   "outputs": [],
   "source": [
    "fasttext_model.save(\"FastText-Model-For-ABSA.bin\")"
   ]
  },
  {
   "cell_type": "code",
   "execution_count": 51,
   "metadata": {},
   "outputs": [],
   "source": [
    "aspects = [\"phone\", \"camera\", \"battery\", \"delivery\", \"processor\"]\n",
    "\n",
    "def get_similarity(text, aspect):\n",
    "    try:\n",
    "        text = \" \".join(text)\n",
    "        return fasttext_model.wv.n_similarity(text, aspect)\n",
    "    except:\n",
    "        return 0"
   ]
  },
  {
   "cell_type": "code",
   "execution_count": 52,
   "metadata": {},
   "outputs": [
    {
     "name": "stderr",
     "output_type": "stream",
     "text": [
      "100%|██████████| 9606/9606 [00:08<00:00, 1100.72it/s]\n",
      "100%|██████████| 9606/9606 [00:08<00:00, 1102.91it/s]\n",
      "100%|██████████| 9606/9606 [00:08<00:00, 1108.36it/s]\n",
      "100%|██████████| 9606/9606 [00:08<00:00, 1109.22it/s]\n",
      "100%|██████████| 9606/9606 [00:08<00:00, 1093.62it/s]\n"
     ]
    }
   ],
   "source": [
    "from tqdm import tqdm\n",
    "tqdm.pandas()\n",
    "for aspect in aspects:\n",
    "    df[aspect] = df['clean_review2'].progress_map(lambda text: get_similarity(text, aspect))"
   ]
  },
  {
   "cell_type": "code",
   "execution_count": 53,
   "metadata": {},
   "outputs": [
    {
     "data": {
      "text/html": [
       "<div>\n",
       "<style scoped>\n",
       "    .dataframe tbody tr th:only-of-type {\n",
       "        vertical-align: middle;\n",
       "    }\n",
       "\n",
       "    .dataframe tbody tr th {\n",
       "        vertical-align: top;\n",
       "    }\n",
       "\n",
       "    .dataframe thead th {\n",
       "        text-align: right;\n",
       "    }\n",
       "</style>\n",
       "<table border=\"1\" class=\"dataframe\">\n",
       "  <thead>\n",
       "    <tr style=\"text-align: right;\">\n",
       "      <th></th>\n",
       "      <th>review</th>\n",
       "      <th>y</th>\n",
       "      <th>clean_review</th>\n",
       "      <th>clean_review2</th>\n",
       "      <th>phone</th>\n",
       "      <th>camera</th>\n",
       "      <th>battery</th>\n",
       "      <th>delivery</th>\n",
       "      <th>processor</th>\n",
       "    </tr>\n",
       "  </thead>\n",
       "  <tbody>\n",
       "    <tr>\n",
       "      <th>0</th>\n",
       "      <td>great phone in budget. .. pubg performance was...</td>\n",
       "      <td>0</td>\n",
       "      <td>great phone budget pubg performance rough came...</td>\n",
       "      <td>[great, phone, budget, pubg, performance, roug...</td>\n",
       "      <td>0.891403</td>\n",
       "      <td>0.874900</td>\n",
       "      <td>0.947455</td>\n",
       "      <td>0.910032</td>\n",
       "      <td>0.890953</td>\n",
       "    </tr>\n",
       "    <tr>\n",
       "      <th>1</th>\n",
       "      <td>Best Smartphone by Mi in this Range. . stay in...</td>\n",
       "      <td>0</td>\n",
       "      <td>well smartphone mi range stay place r confuse ...</td>\n",
       "      <td>[well, smartphone, mi, range, stay, place, r, ...</td>\n",
       "      <td>0.896771</td>\n",
       "      <td>0.836622</td>\n",
       "      <td>0.932066</td>\n",
       "      <td>0.940842</td>\n",
       "      <td>0.855772</td>\n",
       "    </tr>\n",
       "    <tr>\n",
       "      <th>2</th>\n",
       "      <td>Bad smooth phone. . and back camera quality is...</td>\n",
       "      <td>0</td>\n",
       "      <td>bad smooth phone back camera quality evil rear...</td>\n",
       "      <td>[bad, smooth, phone, back, camera, quality, ev...</td>\n",
       "      <td>0.864095</td>\n",
       "      <td>0.895336</td>\n",
       "      <td>0.952277</td>\n",
       "      <td>0.949766</td>\n",
       "      <td>0.905842</td>\n",
       "    </tr>\n",
       "    <tr>\n",
       "      <th>3</th>\n",
       "      <td>Thise is very nice mobile ...I like it very mu...</td>\n",
       "      <td>1</td>\n",
       "      <td>thise nice mobile I like much delivery also fa...</td>\n",
       "      <td>[thise, nice, mobile, i, like, much, delivery,...</td>\n",
       "      <td>0.854463</td>\n",
       "      <td>0.845249</td>\n",
       "      <td>0.908934</td>\n",
       "      <td>0.960860</td>\n",
       "      <td>0.850035</td>\n",
       "    </tr>\n",
       "    <tr>\n",
       "      <th>4</th>\n",
       "      <td>I m meagerly dissatisfy 👍 All section r superb...</td>\n",
       "      <td>0</td>\n",
       "      <td>I meagerly dissatisfy thumb section r superb d...</td>\n",
       "      <td>[i, meagerly, dissatisfy, thumb, section, r, s...</td>\n",
       "      <td>0.842700</td>\n",
       "      <td>0.860895</td>\n",
       "      <td>0.959702</td>\n",
       "      <td>0.965884</td>\n",
       "      <td>0.886631</td>\n",
       "    </tr>\n",
       "  </tbody>\n",
       "</table>\n",
       "</div>"
      ],
      "text/plain": [
       "                                              review  y  \\\n",
       "0  great phone in budget. .. pubg performance was...  0   \n",
       "1  Best Smartphone by Mi in this Range. . stay in...  0   \n",
       "2  Bad smooth phone. . and back camera quality is...  0   \n",
       "3  Thise is very nice mobile ...I like it very mu...  1   \n",
       "4  I m meagerly dissatisfy 👍 All section r superb...  0   \n",
       "\n",
       "                                        clean_review  \\\n",
       "0  great phone budget pubg performance rough came...   \n",
       "1  well smartphone mi range stay place r confuse ...   \n",
       "2  bad smooth phone back camera quality evil rear...   \n",
       "3  thise nice mobile I like much delivery also fa...   \n",
       "4  I meagerly dissatisfy thumb section r superb d...   \n",
       "\n",
       "                                       clean_review2     phone    camera  \\\n",
       "0  [great, phone, budget, pubg, performance, roug...  0.891403  0.874900   \n",
       "1  [well, smartphone, mi, range, stay, place, r, ...  0.896771  0.836622   \n",
       "2  [bad, smooth, phone, back, camera, quality, ev...  0.864095  0.895336   \n",
       "3  [thise, nice, mobile, i, like, much, delivery,...  0.854463  0.845249   \n",
       "4  [i, meagerly, dissatisfy, thumb, section, r, s...  0.842700  0.860895   \n",
       "\n",
       "    battery  delivery  processor  \n",
       "0  0.947455  0.910032   0.890953  \n",
       "1  0.932066  0.940842   0.855772  \n",
       "2  0.952277  0.949766   0.905842  \n",
       "3  0.908934  0.960860   0.850035  \n",
       "4  0.959702  0.965884   0.886631  "
      ]
     },
     "execution_count": 53,
     "metadata": {},
     "output_type": "execute_result"
    }
   ],
   "source": [
    "df.head()"
   ]
  },
  {
   "cell_type": "code",
   "execution_count": 54,
   "metadata": {},
   "outputs": [],
   "source": [
    "df.to_csv(\"Clean_Flipkart_Product.csv\", index = False)"
   ]
  },
  {
   "cell_type": "code",
   "execution_count": 55,
   "metadata": {},
   "outputs": [],
   "source": [
    "import torch\n",
    "from torch import nn\n",
    "from torch.utils.data import Dataset\n",
    "from torch.utils.data import DataLoader\n",
    "from torch.utils.data import RandomSampler\n",
    "import warnings"
   ]
  },
  {
   "cell_type": "code",
   "execution_count": 56,
   "metadata": {},
   "outputs": [],
   "source": [
    "class config:\n",
    "    warnings.filterwarnings(\"ignore\", category = UserWarning)\n",
    "    IMG_SIZE = (224,224)\n",
    "    DEVICE = (\"cuda\" if torch.cuda.is_available() else \"cpu\")\n",
    "    FOLDS = 5\n",
    "    SHUFFLE = True\n",
    "    BATCH_SIZE = 32\n",
    "    LR = 0.01\n",
    "    EPOCHS = 30\n",
    "    EMB_DIM = 100\n",
    "    MAX_LEN = 20\n",
    "    MODEL_PATH = \"./Models/MyModel.pt\""
   ]
  },
  {
   "cell_type": "code",
   "execution_count": 57,
   "metadata": {},
   "outputs": [
    {
     "data": {
      "text/html": [
       "<div>\n",
       "<style scoped>\n",
       "    .dataframe tbody tr th:only-of-type {\n",
       "        vertical-align: middle;\n",
       "    }\n",
       "\n",
       "    .dataframe tbody tr th {\n",
       "        vertical-align: top;\n",
       "    }\n",
       "\n",
       "    .dataframe thead th {\n",
       "        text-align: right;\n",
       "    }\n",
       "</style>\n",
       "<table border=\"1\" class=\"dataframe\">\n",
       "  <thead>\n",
       "    <tr style=\"text-align: right;\">\n",
       "      <th></th>\n",
       "      <th>review</th>\n",
       "      <th>y</th>\n",
       "      <th>clean_review</th>\n",
       "      <th>clean_review2</th>\n",
       "      <th>phone</th>\n",
       "      <th>camera</th>\n",
       "      <th>battery</th>\n",
       "      <th>delivery</th>\n",
       "      <th>processor</th>\n",
       "    </tr>\n",
       "  </thead>\n",
       "  <tbody>\n",
       "    <tr>\n",
       "      <th>0</th>\n",
       "      <td>great phone in budget. .. pubg performance was...</td>\n",
       "      <td>0</td>\n",
       "      <td>great phone budget pubg performance rough came...</td>\n",
       "      <td>[great, phone, budget, pubg, performance, roug...</td>\n",
       "      <td>0.891403</td>\n",
       "      <td>0.874900</td>\n",
       "      <td>0.947455</td>\n",
       "      <td>0.910032</td>\n",
       "      <td>0.890953</td>\n",
       "    </tr>\n",
       "    <tr>\n",
       "      <th>1</th>\n",
       "      <td>Best Smartphone by Mi in this Range. . stay in...</td>\n",
       "      <td>0</td>\n",
       "      <td>well smartphone mi range stay place r confuse ...</td>\n",
       "      <td>[well, smartphone, mi, range, stay, place, r, ...</td>\n",
       "      <td>0.896771</td>\n",
       "      <td>0.836622</td>\n",
       "      <td>0.932066</td>\n",
       "      <td>0.940842</td>\n",
       "      <td>0.855772</td>\n",
       "    </tr>\n",
       "    <tr>\n",
       "      <th>2</th>\n",
       "      <td>Bad smooth phone. . and back camera quality is...</td>\n",
       "      <td>0</td>\n",
       "      <td>bad smooth phone back camera quality evil rear...</td>\n",
       "      <td>[bad, smooth, phone, back, camera, quality, ev...</td>\n",
       "      <td>0.864095</td>\n",
       "      <td>0.895336</td>\n",
       "      <td>0.952277</td>\n",
       "      <td>0.949766</td>\n",
       "      <td>0.905842</td>\n",
       "    </tr>\n",
       "    <tr>\n",
       "      <th>3</th>\n",
       "      <td>Thise is very nice mobile ...I like it very mu...</td>\n",
       "      <td>1</td>\n",
       "      <td>thise nice mobile I like much delivery also fa...</td>\n",
       "      <td>[thise, nice, mobile, i, like, much, delivery,...</td>\n",
       "      <td>0.854463</td>\n",
       "      <td>0.845249</td>\n",
       "      <td>0.908934</td>\n",
       "      <td>0.960860</td>\n",
       "      <td>0.850035</td>\n",
       "    </tr>\n",
       "    <tr>\n",
       "      <th>4</th>\n",
       "      <td>I m meagerly dissatisfy 👍 All section r superb...</td>\n",
       "      <td>0</td>\n",
       "      <td>I meagerly dissatisfy thumb section r superb d...</td>\n",
       "      <td>[i, meagerly, dissatisfy, thumb, section, r, s...</td>\n",
       "      <td>0.842700</td>\n",
       "      <td>0.860895</td>\n",
       "      <td>0.959702</td>\n",
       "      <td>0.965884</td>\n",
       "      <td>0.886631</td>\n",
       "    </tr>\n",
       "  </tbody>\n",
       "</table>\n",
       "</div>"
      ],
      "text/plain": [
       "                                              review  y  \\\n",
       "0  great phone in budget. .. pubg performance was...  0   \n",
       "1  Best Smartphone by Mi in this Range. . stay in...  0   \n",
       "2  Bad smooth phone. . and back camera quality is...  0   \n",
       "3  Thise is very nice mobile ...I like it very mu...  1   \n",
       "4  I m meagerly dissatisfy 👍 All section r superb...  0   \n",
       "\n",
       "                                        clean_review  \\\n",
       "0  great phone budget pubg performance rough came...   \n",
       "1  well smartphone mi range stay place r confuse ...   \n",
       "2  bad smooth phone back camera quality evil rear...   \n",
       "3  thise nice mobile I like much delivery also fa...   \n",
       "4  I meagerly dissatisfy thumb section r superb d...   \n",
       "\n",
       "                                       clean_review2     phone    camera  \\\n",
       "0  [great, phone, budget, pubg, performance, roug...  0.891403  0.874900   \n",
       "1  [well, smartphone, mi, range, stay, place, r, ...  0.896771  0.836622   \n",
       "2  [bad, smooth, phone, back, camera, quality, ev...  0.864095  0.895336   \n",
       "3  [thise, nice, mobile, i, like, much, delivery,...  0.854463  0.845249   \n",
       "4  [i, meagerly, dissatisfy, thumb, section, r, s...  0.842700  0.860895   \n",
       "\n",
       "    battery  delivery  processor  \n",
       "0  0.947455  0.910032   0.890953  \n",
       "1  0.932066  0.940842   0.855772  \n",
       "2  0.952277  0.949766   0.905842  \n",
       "3  0.908934  0.960860   0.850035  \n",
       "4  0.959702  0.965884   0.886631  "
      ]
     },
     "execution_count": 57,
     "metadata": {},
     "output_type": "execute_result"
    }
   ],
   "source": [
    "df.head()"
   ]
  },
  {
   "cell_type": "code",
   "execution_count": 58,
   "metadata": {},
   "outputs": [],
   "source": [
    "class Vocabulary:\n",
    "    '''\n",
    "    __init__ method is called by default as soon as an object of this class is initiated\n",
    "    we use this method to initiate our vocab dictionaries\n",
    "    '''\n",
    "    def __init__(self, freq_threshold, max_size):\n",
    "        '''\n",
    "        freq_threshold : the minimum times a word must occur in corpus to be treated in vocab\n",
    "        max_size : max source vocab size. Eg. if set to 10,000, we pick the top 10,000 most frequent words and discard others\n",
    "        '''\n",
    "        #initiate the index to token dict\n",
    "        ## <PAD> -> padding, used for padding the shorter sentences in a batch to match the length of longest sentence in the batch\n",
    "        ## <SOS> -> start token, added in front of each sentence to signify the start of sentence\n",
    "        ## <EOS> -> End of sentence token, added to the end of each sentence to signify the end of sentence\n",
    "        ## <UNK> -> words which are not found in the vocab are replace by this token\n",
    "        self.itos = {0: '<PAD>', 1:'<SOS>', 2:'<EOS>', 3: '<UNK>'}\n",
    "        #initiate the token to index dict\n",
    "        self.stoi = {k:j for j,k in self.itos.items()} \n",
    "        \n",
    "        self.freq_threshold = freq_threshold\n",
    "        self.max_size = max_size\n",
    "    \n",
    "    '''\n",
    "    __len__ is used by dataloader later to create batches\n",
    "    '''\n",
    "    def __len__(self):\n",
    "        return len(self.itos)\n",
    "    \n",
    "    '''\n",
    "    a simple tokenizer to split on space and converts the sentence to list of words\n",
    "    '''\n",
    "    @staticmethod\n",
    "    def tokenizer(text):\n",
    "        return [tok.lower().strip() for tok in text.split(' ')]\n",
    "    \n",
    "    '''\n",
    "    build the vocab: create a dictionary mapping of index to string (itos) and string to index (stoi)\n",
    "    output ex. for stoi -> {'the':5, 'a':6, 'an':7}\n",
    "    '''\n",
    "    def build_vocabulary(self, sentence_list):\n",
    "        #calculate the frequencies of each word first to remove the words with freq < freq_threshold\n",
    "        frequencies = {}  #init the freq dict\n",
    "        idx = 4 #index from which we want our dict to start. We already used 4 indexes for pad, start, end, unk\n",
    "        \n",
    "        #calculate freq of words\n",
    "        for sentence in sentence_list:\n",
    "            for word in self.tokenizer(sentence):\n",
    "                if word not in frequencies.keys():\n",
    "                    frequencies[word]=1\n",
    "                else:\n",
    "                    frequencies[word]+=1\n",
    "                    \n",
    "                    \n",
    "        #limit vocab by removing low freq words\n",
    "        frequencies = {k:v for k,v in frequencies.items() if v>self.freq_threshold} \n",
    "        \n",
    "        #limit vocab to the max_size specified\n",
    "        frequencies = dict(sorted(frequencies.items(), key = lambda x: -x[1])[:self.max_size-idx]) # idx =4 for pad, start, end , unk\n",
    "            \n",
    "        #create vocab\n",
    "        for word in frequencies.keys():\n",
    "            self.stoi[word] = idx\n",
    "            self.itos[idx] = word\n",
    "            idx+=1\n",
    "            \n",
    "    '''\n",
    "    convert the list of words to a list of corresponding indexes\n",
    "    '''    \n",
    "    def numericalize(self, text):\n",
    "        #tokenize text\n",
    "        tokenized_text = self.tokenizer(text)\n",
    "        numericalized_text = []\n",
    "        for token in tokenized_text:\n",
    "            if token in self.stoi.keys():\n",
    "                numericalized_text.append(self.stoi[token])\n",
    "            else: #out-of-vocab words are represented by UNK token index\n",
    "                numericalized_text.append(self.stoi['<UNK>'])\n",
    "                \n",
    "        return numericalized_text"
   ]
  },
  {
   "cell_type": "code",
   "execution_count": 59,
   "metadata": {},
   "outputs": [],
   "source": [
    "from torch.utils.data import Dataset\n",
    "\n",
    "class CustomDataset(Dataset):\n",
    "    '''\n",
    "    Initiating Variables\n",
    "    df: the training dataframe\n",
    "    source_column : the name of source text column in the dataframe\n",
    "    transform : If we want to add any augmentation\n",
    "    freq_threshold : the minimum times a word must occur in corpus to be treated in vocab\n",
    "    source_vocab_max_size : max source vocab size\n",
    "    '''\n",
    "    \n",
    "    def __init__(self, df, source_column,freq_threshold = 3,\n",
    "                source_vocab_max_size = 10000 , transform=None):\n",
    "    \n",
    "        self.df = df\n",
    "        self.transform = transform\n",
    "        \n",
    "        #get source and target texts\n",
    "        self.source_texts = self.df[source_column]\n",
    "        \n",
    "        \n",
    "        ##VOCAB class has been created above\n",
    "        #Initialize source vocab object and build vocabulary\n",
    "        self.source_vocab = Vocabulary(freq_threshold, source_vocab_max_size)\n",
    "        self.source_vocab.build_vocabulary(self.source_texts.tolist())\n",
    "\n",
    "        \n",
    "    def __len__(self):\n",
    "        return len(self.df)\n",
    "    \n",
    "    '''\n",
    "    __getitem__ runs on 1 example at a time. Here, we get an example at index and return its numericalize source and\n",
    "    target values using the vocabulary objects we created in __init__\n",
    "    '''\n",
    "    def __getitem__(self, index):\n",
    "        source_text = self.source_texts[index]\n",
    "        \n",
    "        if self.transform is not None:\n",
    "            source_text = self.transform(source_text)\n",
    "            \n",
    "        #numericalize texts ['<SOS>','cat', 'in', 'a', 'bag','<EOS>'] -> [1,12,2,9,24,2]\n",
    "        numerialized_source = [self.source_vocab.stoi[\"<SOS>\"]]\n",
    "        numerialized_source += self.source_vocab.numericalize(source_text)\n",
    "        numerialized_source.append(self.source_vocab.stoi[\"<EOS>\"])\n",
    "        \n",
    "        #convert the list to tensor and return\n",
    "        return torch.tensor(numerialized_source), torch.tensor(self.df.y[index])"
   ]
  },
  {
   "cell_type": "code",
   "execution_count": 60,
   "metadata": {},
   "outputs": [
    {
     "data": {
      "text/html": [
       "<div>\n",
       "<style scoped>\n",
       "    .dataframe tbody tr th:only-of-type {\n",
       "        vertical-align: middle;\n",
       "    }\n",
       "\n",
       "    .dataframe tbody tr th {\n",
       "        vertical-align: top;\n",
       "    }\n",
       "\n",
       "    .dataframe thead th {\n",
       "        text-align: right;\n",
       "    }\n",
       "</style>\n",
       "<table border=\"1\" class=\"dataframe\">\n",
       "  <thead>\n",
       "    <tr style=\"text-align: right;\">\n",
       "      <th></th>\n",
       "      <th>review</th>\n",
       "      <th>y</th>\n",
       "      <th>clean_review</th>\n",
       "      <th>clean_review2</th>\n",
       "      <th>phone</th>\n",
       "      <th>camera</th>\n",
       "      <th>battery</th>\n",
       "      <th>delivery</th>\n",
       "      <th>processor</th>\n",
       "    </tr>\n",
       "  </thead>\n",
       "  <tbody>\n",
       "    <tr>\n",
       "      <th>0</th>\n",
       "      <td>great phone in budget. .. pubg performance was...</td>\n",
       "      <td>0</td>\n",
       "      <td>great phone budget pubg performance rough came...</td>\n",
       "      <td>[great, phone, budget, pubg, performance, roug...</td>\n",
       "      <td>0.891403</td>\n",
       "      <td>0.874900</td>\n",
       "      <td>0.947455</td>\n",
       "      <td>0.910032</td>\n",
       "      <td>0.890953</td>\n",
       "    </tr>\n",
       "    <tr>\n",
       "      <th>1</th>\n",
       "      <td>Best Smartphone by Mi in this Range. . stay in...</td>\n",
       "      <td>0</td>\n",
       "      <td>well smartphone mi range stay place r confuse ...</td>\n",
       "      <td>[well, smartphone, mi, range, stay, place, r, ...</td>\n",
       "      <td>0.896771</td>\n",
       "      <td>0.836622</td>\n",
       "      <td>0.932066</td>\n",
       "      <td>0.940842</td>\n",
       "      <td>0.855772</td>\n",
       "    </tr>\n",
       "    <tr>\n",
       "      <th>2</th>\n",
       "      <td>Bad smooth phone. . and back camera quality is...</td>\n",
       "      <td>0</td>\n",
       "      <td>bad smooth phone back camera quality evil rear...</td>\n",
       "      <td>[bad, smooth, phone, back, camera, quality, ev...</td>\n",
       "      <td>0.864095</td>\n",
       "      <td>0.895336</td>\n",
       "      <td>0.952277</td>\n",
       "      <td>0.949766</td>\n",
       "      <td>0.905842</td>\n",
       "    </tr>\n",
       "    <tr>\n",
       "      <th>3</th>\n",
       "      <td>Thise is very nice mobile ...I like it very mu...</td>\n",
       "      <td>1</td>\n",
       "      <td>thise nice mobile I like much delivery also fa...</td>\n",
       "      <td>[thise, nice, mobile, i, like, much, delivery,...</td>\n",
       "      <td>0.854463</td>\n",
       "      <td>0.845249</td>\n",
       "      <td>0.908934</td>\n",
       "      <td>0.960860</td>\n",
       "      <td>0.850035</td>\n",
       "    </tr>\n",
       "    <tr>\n",
       "      <th>4</th>\n",
       "      <td>I m meagerly dissatisfy 👍 All section r superb...</td>\n",
       "      <td>0</td>\n",
       "      <td>I meagerly dissatisfy thumb section r superb d...</td>\n",
       "      <td>[i, meagerly, dissatisfy, thumb, section, r, s...</td>\n",
       "      <td>0.842700</td>\n",
       "      <td>0.860895</td>\n",
       "      <td>0.959702</td>\n",
       "      <td>0.965884</td>\n",
       "      <td>0.886631</td>\n",
       "    </tr>\n",
       "  </tbody>\n",
       "</table>\n",
       "</div>"
      ],
      "text/plain": [
       "                                              review  y  \\\n",
       "0  great phone in budget. .. pubg performance was...  0   \n",
       "1  Best Smartphone by Mi in this Range. . stay in...  0   \n",
       "2  Bad smooth phone. . and back camera quality is...  0   \n",
       "3  Thise is very nice mobile ...I like it very mu...  1   \n",
       "4  I m meagerly dissatisfy 👍 All section r superb...  0   \n",
       "\n",
       "                                        clean_review  \\\n",
       "0  great phone budget pubg performance rough came...   \n",
       "1  well smartphone mi range stay place r confuse ...   \n",
       "2  bad smooth phone back camera quality evil rear...   \n",
       "3  thise nice mobile I like much delivery also fa...   \n",
       "4  I meagerly dissatisfy thumb section r superb d...   \n",
       "\n",
       "                                       clean_review2     phone    camera  \\\n",
       "0  [great, phone, budget, pubg, performance, roug...  0.891403  0.874900   \n",
       "1  [well, smartphone, mi, range, stay, place, r, ...  0.896771  0.836622   \n",
       "2  [bad, smooth, phone, back, camera, quality, ev...  0.864095  0.895336   \n",
       "3  [thise, nice, mobile, i, like, much, delivery,...  0.854463  0.845249   \n",
       "4  [i, meagerly, dissatisfy, thumb, section, r, s...  0.842700  0.860895   \n",
       "\n",
       "    battery  delivery  processor  \n",
       "0  0.947455  0.910032   0.890953  \n",
       "1  0.932066  0.940842   0.855772  \n",
       "2  0.952277  0.949766   0.905842  \n",
       "3  0.908934  0.960860   0.850035  \n",
       "4  0.959702  0.965884   0.886631  "
      ]
     },
     "execution_count": 60,
     "metadata": {},
     "output_type": "execute_result"
    }
   ],
   "source": [
    "df.head()"
   ]
  },
  {
   "cell_type": "code",
   "execution_count": 61,
   "metadata": {},
   "outputs": [],
   "source": [
    "dataset = CustomDataset(df, \"clean_review\")"
   ]
  },
  {
   "cell_type": "code",
   "execution_count": 62,
   "metadata": {},
   "outputs": [
    {
     "data": {
      "text/plain": [
       "3308"
      ]
     },
     "execution_count": 62,
     "metadata": {},
     "output_type": "execute_result"
    }
   ],
   "source": [
    "len(dataset.source_vocab.stoi)"
   ]
  },
  {
   "cell_type": "code",
   "execution_count": 63,
   "metadata": {},
   "outputs": [],
   "source": [
    "import pickle\n",
    "\n",
    "with open('dataset-new', 'wb') as dataset_file:\n",
    "    pickle.dump(dataset, dataset_file, pickle.HIGHEST_PROTOCOL)\n",
    "\n"
   ]
  },
  {
   "cell_type": "code",
   "execution_count": 64,
   "metadata": {},
   "outputs": [],
   "source": [
    "def get_emb_layer_with_weights(target_vocab, emb_model, trainable = False):\n",
    "\n",
    "    weights_matrix = np.zeros((len(target_vocab), config.EMB_DIM))\n",
    "    words_found = 0\n",
    "    \n",
    "    for i, word in enumerate(target_vocab):\n",
    "        weights_matrix[i] = np.concatenate([emb_model.wv[word]])\n",
    "        words_found += 1\n",
    "                \n",
    "    print(f\"Words found are : {words_found}\")\n",
    "    \n",
    "    weights_matrix = torch.tensor(weights_matrix, dtype = torch.float32).reshape(len(target_vocab), config.EMB_DIM)\n",
    "    emb_layer = nn.Embedding.from_pretrained(weights_matrix)\n",
    "    print(emb_layer)\n",
    "    if trainable:\n",
    "        emb_layer.weight.requires_grad = True\n",
    "    else:\n",
    "        emb_layer.weight.requires_grad = False\n",
    "\n",
    "    return emb_layer"
   ]
  },
  {
   "cell_type": "code",
   "execution_count": 65,
   "metadata": {},
   "outputs": [],
   "source": [
    "class MyCollate:\n",
    "    def __init__(self, pad_idx, maxlen):\n",
    "        self.pad_idx = pad_idx\n",
    "        self.maxlen = maxlen\n",
    "        \n",
    "    \n",
    "    #__call__: a default method\n",
    "    ##   First the obj is created using MyCollate(pad_idx) in data loader\n",
    "    ##   Then if obj(batch) is called -> __call__ runs by default\n",
    "    def __call__(self, batch):\n",
    "        #get all source indexed sentences of the batch\n",
    "        source = [item[0] for item in batch] \n",
    "        #pad them using pad_sequence method from pytorch. \n",
    "#         source = pad_sequence(source, batch_first=False, padding_value = self.pad_idx)\n",
    "        \n",
    "        padded_sequence = torch.zeros((self.maxlen, len(batch)), dtype = torch.int)\n",
    "        \n",
    "        for idx, text in enumerate(source):\n",
    "            \n",
    "            if len(text) > self.maxlen:\n",
    "                padded_sequence[:, idx] = source[idx][: self.maxlen]\n",
    "            else:\n",
    "                padded_sequence[:len(source[idx]), idx] = padded_sequence[:len(source[idx]), idx] + source[idx]\n",
    "                \n",
    "        \n",
    "        #get all target indexed sentences of the batch\n",
    "        target = [item[1] for item in batch] \n",
    "        \n",
    "        target = torch.tensor(target, dtype = torch.float32).reshape(-1)\n",
    "        return padded_sequence, target"
   ]
  },
  {
   "cell_type": "code",
   "execution_count": 66,
   "metadata": {},
   "outputs": [],
   "source": [
    "class Model(nn.Module):\n",
    "    def __init__(self, input_dim, embedding_dim, hidden_dim, output_dim, embedding_layer):\n",
    "        super().__init__()\n",
    "#         self.embedding = nn.Embedding(input_dim, embedding_dim)\n",
    "        self.hidden_dim = hidden_dim\n",
    "        self.embedding = embedding_layer\n",
    "        self.lstm = nn.LSTM(embedding_dim, hidden_dim, bidirectional = True)\n",
    "        self.fc1 = nn.Linear(2*hidden_dim, 128)\n",
    "        self.fc2 = nn.Linear(128, output_dim)\n",
    "        self.dropout = nn.Dropout(0.3)\n",
    "        self.sigmoid = nn.Sigmoid()\n",
    "    def forward(self, text):\n",
    "        \n",
    "        max_len, N = text.shape\n",
    "        hidden = torch.zeros((2, N , self.hidden_dim),\n",
    "                          dtype=torch.float)\n",
    "        memory = torch.zeros((2, N , self.hidden_dim),\n",
    "                          dtype=torch.float)\n",
    "        hidden = hidden.to(config.DEVICE)\n",
    "        memory = memory.to(config.DEVICE)\n",
    "        embedded = self.embedding(text)\n",
    "        output, hidden = self.lstm(embedded, (hidden, memory))\n",
    "#         assert torch.equal(output[-1,:,:], hidden.squeeze(0))\n",
    "        y_pred = output[-1,:,:]\n",
    "        y_pred = self.fc1(y_pred)\n",
    "        y_pred = self.fc2(y_pred)\n",
    "        y_pred = self.sigmoid(y_pred)\n",
    "                         \n",
    "        return y_pred  "
   ]
  },
  {
   "cell_type": "code",
   "execution_count": 67,
   "metadata": {},
   "outputs": [],
   "source": [
    "def train_epochs(dataloader,model, loss_fn, optimizer):\n",
    "    train_correct = 0\n",
    "    train_loss = 0\n",
    "    \n",
    "    model.train()\n",
    "\n",
    "    for review, label in tqdm(dataloader):\n",
    "        \n",
    "        review, label = review.to(config.DEVICE), label.to(config.DEVICE)\n",
    "        optimizer.zero_grad()\n",
    "        output = model(review)\n",
    "        output = output.reshape(-1)\n",
    "        loss = loss_fn(output, label)\n",
    "        loss.backward()\n",
    "        optimizer.step()\n",
    "        \n",
    "        train_loss += loss.item()*review.size(1)\n",
    "        prediction = (output > 0.5).float()\n",
    "        train_correct += (prediction == label).float().sum()\n",
    "        \n",
    "    return train_loss, train_correct\n"
   ]
  },
  {
   "cell_type": "code",
   "execution_count": 68,
   "metadata": {},
   "outputs": [],
   "source": [
    "def val_epochs(dataloader, model, loss_fn):\n",
    "    val_correct = 0\n",
    "    val_loss = 0\n",
    "    \n",
    "    model.eval()\n",
    "#     hidden = model.init_hidden(config.BATCH_SIZE)\n",
    "\n",
    "    for review, label in dataloader:\n",
    "        \n",
    "        review, label = review.to(config.DEVICE), label.to(config.DEVICE)\n",
    "        \n",
    "        output = model(review)\n",
    "        output = output.reshape(-1)\n",
    "\n",
    "        loss = loss_fn(output, label)\n",
    "        \n",
    "        val_loss += loss.item()*review.size(1)\n",
    "        prediction = (output > 0.5).float()\n",
    "        val_correct += (prediction == label).float().sum()\n",
    "#         prediction = \n",
    "    return val_loss, val_correct\n"
   ]
  },
  {
   "cell_type": "code",
   "execution_count": 69,
   "metadata": {},
   "outputs": [
    {
     "name": "stdout",
     "output_type": "stream",
     "text": [
      "Words found are : 3308\n",
      "Embedding(3308, 100)\n",
      "-----------------------------------------------------------0-fold of the model-----------------------------------------------------------\n"
     ]
    },
    {
     "name": "stderr",
     "output_type": "stream",
     "text": [
      "100%|██████████| 241/241 [00:02<00:00, 102.58it/s]\n"
     ]
    },
    {
     "name": "stdout",
     "output_type": "stream",
     "text": [
      "| Train Loss : 0.6928116128445913 |  Val Loss : 0.6922951863533997 | Train Acc : 50.33837127685547 | Val Acc : 49.0634765625 |\n"
     ]
    },
    {
     "name": "stderr",
     "output_type": "stream",
     "text": [
      "100%|██████████| 241/241 [00:01<00:00, 148.51it/s]\n"
     ]
    },
    {
     "name": "stdout",
     "output_type": "stream",
     "text": [
      "| Train Loss : 0.6898060073646514 |  Val Loss : 0.6899086774077797 | Train Acc : 54.828216552734375 | Val Acc : 49.0634765625 |\n"
     ]
    },
    {
     "name": "stderr",
     "output_type": "stream",
     "text": [
      "100%|██████████| 241/241 [00:01<00:00, 150.35it/s]\n"
     ]
    },
    {
     "name": "stdout",
     "output_type": "stream",
     "text": [
      "| Train Loss : 0.6790487392689647 |  Val Loss : 0.6599326405391237 | Train Acc : 58.21186828613281 | Val Acc : 64.46410369873047 |\n"
     ]
    },
    {
     "name": "stderr",
     "output_type": "stream",
     "text": [
      "100%|██████████| 241/241 [00:01<00:00, 150.09it/s]\n"
     ]
    },
    {
     "name": "stdout",
     "output_type": "stream",
     "text": [
      "| Train Loss : 0.5207280346901698 |  Val Loss : 0.29503312710048507 | Train Acc : 75.93701171875 | Val Acc : 89.07388305664062 |\n"
     ]
    },
    {
     "name": "stderr",
     "output_type": "stream",
     "text": [
      "100%|██████████| 241/241 [00:01<00:00, 150.01it/s]\n"
     ]
    },
    {
     "name": "stdout",
     "output_type": "stream",
     "text": [
      "| Train Loss : 0.29992368955403675 |  Val Loss : 0.4098197967279218 | Train Acc : 88.3263931274414 | Val Acc : 81.0614013671875 |\n"
     ]
    },
    {
     "name": "stderr",
     "output_type": "stream",
     "text": [
      "100%|██████████| 241/241 [00:01<00:00, 149.80it/s]\n"
     ]
    },
    {
     "name": "stdout",
     "output_type": "stream",
     "text": [
      "| Train Loss : 0.24345477701846913 |  Val Loss : 0.3000685067752398 | Train Acc : 90.55179595947266 | Val Acc : 87.77315521240234 |\n"
     ]
    },
    {
     "name": "stderr",
     "output_type": "stream",
     "text": [
      "100%|██████████| 241/241 [00:01<00:00, 149.68it/s]\n"
     ]
    },
    {
     "name": "stdout",
     "output_type": "stream",
     "text": [
      "| Train Loss : 0.21722257391727573 |  Val Loss : 0.5190764701577305 | Train Acc : 91.61895751953125 | Val Acc : 80.28096008300781 |\n"
     ]
    },
    {
     "name": "stderr",
     "output_type": "stream",
     "text": [
      "100%|██████████| 241/241 [00:01<00:00, 148.96it/s]\n"
     ]
    },
    {
     "name": "stdout",
     "output_type": "stream",
     "text": [
      "| Train Loss : 0.2174832884363834 |  Val Loss : 0.1580477710445019 | Train Acc : 91.35867309570312 | Val Acc : 93.91259765625 |\n"
     ]
    },
    {
     "name": "stderr",
     "output_type": "stream",
     "text": [
      "100%|██████████| 241/241 [00:01<00:00, 144.54it/s]\n"
     ]
    },
    {
     "name": "stdout",
     "output_type": "stream",
     "text": [
      "| Train Loss : 0.19638811245770085 |  Val Loss : 0.1549125489479359 | Train Acc : 92.2696533203125 | Val Acc : 94.06867980957031 |\n"
     ]
    },
    {
     "name": "stderr",
     "output_type": "stream",
     "text": [
      "100%|██████████| 241/241 [00:01<00:00, 145.65it/s]\n"
     ]
    },
    {
     "name": "stdout",
     "output_type": "stream",
     "text": [
      "| Train Loss : 0.18646859454028872 |  Val Loss : 0.2817715714054723 | Train Acc : 92.6991195678711 | Val Acc : 87.40895080566406 |\n"
     ]
    },
    {
     "name": "stderr",
     "output_type": "stream",
     "text": [
      "100%|██████████| 241/241 [00:01<00:00, 143.15it/s]\n"
     ]
    },
    {
     "name": "stdout",
     "output_type": "stream",
     "text": [
      "| Train Loss : 0.18174493723955706 |  Val Loss : 1.3678690369990067 | Train Acc : 92.82925415039062 | Val Acc : 65.1404800415039 |\n"
     ]
    },
    {
     "name": "stderr",
     "output_type": "stream",
     "text": [
      "100%|██████████| 241/241 [00:01<00:00, 142.43it/s]\n"
     ]
    },
    {
     "name": "stdout",
     "output_type": "stream",
     "text": [
      "| Train Loss : 0.18140088051231748 |  Val Loss : 0.4872450988534276 | Train Acc : 92.86830139160156 | Val Acc : 85.90010833740234 |\n"
     ]
    },
    {
     "name": "stderr",
     "output_type": "stream",
     "text": [
      "100%|██████████| 241/241 [00:01<00:00, 140.05it/s]\n"
     ]
    },
    {
     "name": "stdout",
     "output_type": "stream",
     "text": [
      "| Train Loss : 0.1731663148797843 |  Val Loss : 0.20171637702384396 | Train Acc : 93.31077575683594 | Val Acc : 91.1550521850586 |\n"
     ]
    },
    {
     "name": "stderr",
     "output_type": "stream",
     "text": [
      "100%|██████████| 241/241 [00:01<00:00, 146.33it/s]\n"
     ]
    },
    {
     "name": "stdout",
     "output_type": "stream",
     "text": [
      "| Train Loss : 0.16652765701767805 |  Val Loss : 0.30307635010591283 | Train Acc : 93.28475189208984 | Val Acc : 84.70343780517578 |\n"
     ]
    },
    {
     "name": "stderr",
     "output_type": "stream",
     "text": [
      "100%|██████████| 241/241 [00:01<00:00, 148.70it/s]\n"
     ]
    },
    {
     "name": "stdout",
     "output_type": "stream",
     "text": [
      "| Train Loss : 0.1671353512109567 |  Val Loss : 0.13863519669106303 | Train Acc : 93.50598907470703 | Val Acc : 95.00521087646484 |\n"
     ]
    },
    {
     "name": "stderr",
     "output_type": "stream",
     "text": [
      "100%|██████████| 241/241 [00:01<00:00, 146.61it/s]\n"
     ]
    },
    {
     "name": "stdout",
     "output_type": "stream",
     "text": [
      "| Train Loss : 0.15640581714717564 |  Val Loss : 0.13238553264402203 | Train Acc : 93.6751708984375 | Val Acc : 95.26535034179688 |\n"
     ]
    },
    {
     "name": "stderr",
     "output_type": "stream",
     "text": [
      "100%|██████████| 241/241 [00:01<00:00, 147.83it/s]\n"
     ]
    },
    {
     "name": "stdout",
     "output_type": "stream",
     "text": [
      "| Train Loss : 0.16049914954851718 |  Val Loss : 0.39400812595865603 | Train Acc : 93.37584686279297 | Val Acc : 79.13631439208984 |\n"
     ]
    },
    {
     "name": "stderr",
     "output_type": "stream",
     "text": [
      "100%|██████████| 241/241 [00:01<00:00, 150.27it/s]\n"
     ]
    },
    {
     "name": "stdout",
     "output_type": "stream",
     "text": [
      "| Train Loss : 0.16240368114046477 |  Val Loss : 0.4313447599480477 | Train Acc : 93.70120239257812 | Val Acc : 83.55879974365234 |\n"
     ]
    },
    {
     "name": "stderr",
     "output_type": "stream",
     "text": [
      "100%|██████████| 241/241 [00:01<00:00, 149.54it/s]\n"
     ]
    },
    {
     "name": "stdout",
     "output_type": "stream",
     "text": [
      "| Train Loss : 0.15536967564067808 |  Val Loss : 0.12474585185941933 | Train Acc : 93.84435272216797 | Val Acc : 95.10926818847656 |\n"
     ]
    },
    {
     "name": "stderr",
     "output_type": "stream",
     "text": [
      "100%|██████████| 241/241 [00:01<00:00, 151.75it/s]\n"
     ]
    },
    {
     "name": "stdout",
     "output_type": "stream",
     "text": [
      "| Train Loss : 0.15329197532594793 |  Val Loss : 0.12743701586552142 | Train Acc : 94.13066864013672 | Val Acc : 95.26535034179688 |\n"
     ]
    },
    {
     "name": "stderr",
     "output_type": "stream",
     "text": [
      "100%|██████████| 241/241 [00:01<00:00, 149.49it/s]\n"
     ]
    },
    {
     "name": "stdout",
     "output_type": "stream",
     "text": [
      "| Train Loss : 0.15428171273299582 |  Val Loss : 0.5049789759730697 | Train Acc : 93.77928161621094 | Val Acc : 76.69094848632812 |\n"
     ]
    },
    {
     "name": "stderr",
     "output_type": "stream",
     "text": [
      "100%|██████████| 241/241 [00:01<00:00, 148.56it/s]\n"
     ]
    },
    {
     "name": "stdout",
     "output_type": "stream",
     "text": [
      "| Train Loss : 0.15250805457729122 |  Val Loss : 0.1341510438985355 | Train Acc : 94.16970825195312 | Val Acc : 95.05723571777344 |\n"
     ]
    },
    {
     "name": "stderr",
     "output_type": "stream",
     "text": [
      "100%|██████████| 241/241 [00:01<00:00, 149.06it/s]\n"
     ]
    },
    {
     "name": "stdout",
     "output_type": "stream",
     "text": [
      "| Train Loss : 0.14933413288661243 |  Val Loss : 0.1292533829757841 | Train Acc : 94.1046371459961 | Val Acc : 95.21332550048828 |\n"
     ]
    },
    {
     "name": "stderr",
     "output_type": "stream",
     "text": [
      "100%|██████████| 241/241 [00:01<00:00, 148.89it/s]\n"
     ]
    },
    {
     "name": "stdout",
     "output_type": "stream",
     "text": [
      "| Train Loss : 0.15092935330122476 |  Val Loss : 0.12184336508040847 | Train Acc : 94.1046371459961 | Val Acc : 95.57752990722656 |\n"
     ]
    },
    {
     "name": "stderr",
     "output_type": "stream",
     "text": [
      "100%|██████████| 241/241 [00:01<00:00, 150.03it/s]\n"
     ]
    },
    {
     "name": "stdout",
     "output_type": "stream",
     "text": [
      "| Train Loss : 0.1477203723246824 |  Val Loss : 0.16772456867833554 | Train Acc : 94.06559753417969 | Val Acc : 92.97606658935547 |\n"
     ]
    },
    {
     "name": "stderr",
     "output_type": "stream",
     "text": [
      "100%|██████████| 241/241 [00:01<00:00, 151.10it/s]\n"
     ]
    },
    {
     "name": "stdout",
     "output_type": "stream",
     "text": [
      "| Train Loss : 0.14708067996467172 |  Val Loss : 0.12250871749538599 | Train Acc : 94.3388900756836 | Val Acc : 95.47346496582031 |\n"
     ]
    },
    {
     "name": "stderr",
     "output_type": "stream",
     "text": [
      "100%|██████████| 241/241 [00:01<00:00, 148.90it/s]\n"
     ]
    },
    {
     "name": "stdout",
     "output_type": "stream",
     "text": [
      "| Train Loss : 0.14962635207135871 |  Val Loss : 0.14104087067948234 | Train Acc : 94.01353454589844 | Val Acc : 93.86056518554688 |\n"
     ]
    },
    {
     "name": "stderr",
     "output_type": "stream",
     "text": [
      "100%|██████████| 241/241 [00:01<00:00, 147.73it/s]\n"
     ]
    },
    {
     "name": "stdout",
     "output_type": "stream",
     "text": [
      "| Train Loss : 0.14323212944488936 |  Val Loss : 0.12869568273006443 | Train Acc : 94.3388900756836 | Val Acc : 95.47346496582031 |\n"
     ]
    },
    {
     "name": "stderr",
     "output_type": "stream",
     "text": [
      "100%|██████████| 241/241 [00:01<00:00, 148.25it/s]\n"
     ]
    },
    {
     "name": "stdout",
     "output_type": "stream",
     "text": [
      "| Train Loss : 0.14218862429998122 |  Val Loss : 0.12094545820640724 | Train Acc : 94.41697692871094 | Val Acc : 95.21332550048828 |\n"
     ]
    },
    {
     "name": "stderr",
     "output_type": "stream",
     "text": [
      "100%|██████████| 241/241 [00:01<00:00, 150.40it/s]\n"
     ]
    },
    {
     "name": "stdout",
     "output_type": "stream",
     "text": [
      "| Train Loss : 0.14089101125165734 |  Val Loss : 0.12842314858299667 | Train Acc : 94.36491394042969 | Val Acc : 95.52549743652344 |\n",
      "Words found are : 3308\n",
      "Embedding(3308, 100)\n",
      "-----------------------------------------------------------1-fold of the model-----------------------------------------------------------\n"
     ]
    },
    {
     "name": "stderr",
     "output_type": "stream",
     "text": [
      "100%|██████████| 241/241 [00:01<00:00, 147.59it/s]\n"
     ]
    },
    {
     "name": "stdout",
     "output_type": "stream",
     "text": [
      "| Train Loss : 0.6924400920905148 |  Val Loss : 0.6915562099184238 | Train Acc : 51.672088623046875 | Val Acc : 50.286312103271484 |\n"
     ]
    },
    {
     "name": "stderr",
     "output_type": "stream",
     "text": [
      "100%|██████████| 241/241 [00:01<00:00, 149.88it/s]\n"
     ]
    },
    {
     "name": "stdout",
     "output_type": "stream",
     "text": [
      "| Train Loss : 0.6891886867093202 |  Val Loss : 0.6883116878611789 | Train Acc : 55.159400939941406 | Val Acc : 52.62883758544922 |\n"
     ]
    },
    {
     "name": "stderr",
     "output_type": "stream",
     "text": [
      "100%|██████████| 241/241 [00:01<00:00, 149.37it/s]\n"
     ]
    },
    {
     "name": "stdout",
     "output_type": "stream",
     "text": [
      "| Train Loss : 0.6778843803768742 |  Val Loss : 0.6553421131898065 | Train Acc : 60.03903579711914 | Val Acc : 65.74700927734375 |\n"
     ]
    },
    {
     "name": "stderr",
     "output_type": "stream",
     "text": [
      "100%|██████████| 241/241 [00:01<00:00, 147.68it/s]\n"
     ]
    },
    {
     "name": "stdout",
     "output_type": "stream",
     "text": [
      "| Train Loss : 0.5097471102025111 |  Val Loss : 0.23828338517893236 | Train Acc : 77.24137878417969 | Val Acc : 92.55596160888672 |\n"
     ]
    },
    {
     "name": "stderr",
     "output_type": "stream",
     "text": [
      "100%|██████████| 241/241 [00:01<00:00, 149.44it/s]\n"
     ]
    },
    {
     "name": "stdout",
     "output_type": "stream",
     "text": [
      "| Train Loss : 0.3186420924210207 |  Val Loss : 0.20852479191166326 | Train Acc : 87.4690933227539 | Val Acc : 92.7121353149414 |\n"
     ]
    },
    {
     "name": "stderr",
     "output_type": "stream",
     "text": [
      "100%|██████████| 241/241 [00:01<00:00, 150.71it/s]\n"
     ]
    },
    {
     "name": "stdout",
     "output_type": "stream",
     "text": [
      "| Train Loss : 0.23819857099340114 |  Val Loss : 0.3816604836262619 | Train Acc : 91.02146911621094 | Val Acc : 83.75846099853516 |\n"
     ]
    },
    {
     "name": "stderr",
     "output_type": "stream",
     "text": [
      "100%|██████████| 241/241 [00:01<00:00, 149.26it/s]\n"
     ]
    },
    {
     "name": "stdout",
     "output_type": "stream",
     "text": [
      "| Train Loss : 0.20241179487649194 |  Val Loss : 0.35944154673100354 | Train Acc : 92.11450958251953 | Val Acc : 86.30921936035156 |\n"
     ]
    },
    {
     "name": "stderr",
     "output_type": "stream",
     "text": [
      "100%|██████████| 241/241 [00:01<00:00, 149.04it/s]\n"
     ]
    },
    {
     "name": "stdout",
     "output_type": "stream",
     "text": [
      "| Train Loss : 0.1903273105650423 |  Val Loss : 0.18408071354054834 | Train Acc : 92.66102600097656 | Val Acc : 92.92035675048828 |\n"
     ]
    },
    {
     "name": "stderr",
     "output_type": "stream",
     "text": [
      "100%|██████████| 241/241 [00:01<00:00, 148.62it/s]\n"
     ]
    },
    {
     "name": "stdout",
     "output_type": "stream",
     "text": [
      "| Train Loss : 0.17458546634378105 |  Val Loss : 0.17647379651308867 | Train Acc : 93.16851043701172 | Val Acc : 92.92035675048828 |\n"
     ]
    },
    {
     "name": "stderr",
     "output_type": "stream",
     "text": [
      "100%|██████████| 241/241 [00:01<00:00, 148.70it/s]\n"
     ]
    },
    {
     "name": "stdout",
     "output_type": "stream",
     "text": [
      "| Train Loss : 0.17425425417173507 |  Val Loss : 1.317437738957313 | Train Acc : 93.23357391357422 | Val Acc : 54.5549201965332 |\n"
     ]
    },
    {
     "name": "stderr",
     "output_type": "stream",
     "text": [
      "100%|██████████| 241/241 [00:01<00:00, 149.99it/s]\n"
     ]
    },
    {
     "name": "stdout",
     "output_type": "stream",
     "text": [
      "| Train Loss : 0.19749852638029983 |  Val Loss : 0.1638121975116521 | Train Acc : 92.47885131835938 | Val Acc : 93.70120239257812 |\n"
     ]
    },
    {
     "name": "stderr",
     "output_type": "stream",
     "text": [
      "100%|██████████| 241/241 [00:01<00:00, 148.66it/s]\n"
     ]
    },
    {
     "name": "stdout",
     "output_type": "stream",
     "text": [
      "| Train Loss : 0.16952937725560574 |  Val Loss : 0.16591063819383017 | Train Acc : 93.53285217285156 | Val Acc : 93.75325775146484 |\n"
     ]
    },
    {
     "name": "stderr",
     "output_type": "stream",
     "text": [
      "100%|██████████| 241/241 [00:01<00:00, 148.26it/s]\n"
     ]
    },
    {
     "name": "stdout",
     "output_type": "stream",
     "text": [
      "| Train Loss : 0.15347079488272472 |  Val Loss : 0.16638679632927714 | Train Acc : 94.0923843383789 | Val Acc : 93.70120239257812 |\n"
     ]
    },
    {
     "name": "stderr",
     "output_type": "stream",
     "text": [
      "100%|██████████| 241/241 [00:01<00:00, 148.74it/s]\n"
     ]
    },
    {
     "name": "stdout",
     "output_type": "stream",
     "text": [
      "| Train Loss : 0.14899676859950817 |  Val Loss : 0.16518959959795362 | Train Acc : 94.10540008544922 | Val Acc : 94.06559753417969 |\n"
     ]
    },
    {
     "name": "stderr",
     "output_type": "stream",
     "text": [
      "100%|██████████| 241/241 [00:01<00:00, 148.77it/s]\n"
     ]
    },
    {
     "name": "stdout",
     "output_type": "stream",
     "text": [
      "| Train Loss : 0.14343008461299855 |  Val Loss : 0.16663420514408683 | Train Acc : 94.2745590209961 | Val Acc : 93.28475189208984 |\n"
     ]
    },
    {
     "name": "stderr",
     "output_type": "stream",
     "text": [
      "100%|██████████| 241/241 [00:01<00:00, 148.76it/s]\n"
     ]
    },
    {
     "name": "stdout",
     "output_type": "stream",
     "text": [
      "| Train Loss : 0.14444750971854625 |  Val Loss : 0.24082169151961424 | Train Acc : 94.30058288574219 | Val Acc : 89.17230987548828 |\n"
     ]
    },
    {
     "name": "stderr",
     "output_type": "stream",
     "text": [
      "100%|██████████| 241/241 [00:01<00:00, 150.18it/s]\n"
     ]
    },
    {
     "name": "stdout",
     "output_type": "stream",
     "text": [
      "| Train Loss : 0.13993875453855767 |  Val Loss : 0.1674439228136909 | Train Acc : 94.4046859741211 | Val Acc : 93.33680725097656 |\n"
     ]
    },
    {
     "name": "stderr",
     "output_type": "stream",
     "text": [
      "100%|██████████| 241/241 [00:01<00:00, 149.97it/s]\n"
     ]
    },
    {
     "name": "stdout",
     "output_type": "stream",
     "text": [
      "| Train Loss : 0.14168969917467994 |  Val Loss : 0.22983532870951448 | Train Acc : 94.44371795654297 | Val Acc : 88.85997772216797 |\n"
     ]
    },
    {
     "name": "stderr",
     "output_type": "stream",
     "text": [
      "100%|██████████| 241/241 [00:01<00:00, 126.19it/s]\n"
     ]
    },
    {
     "name": "stdout",
     "output_type": "stream",
     "text": [
      "| Train Loss : 0.13923799331453263 |  Val Loss : 0.15059706666455921 | Train Acc : 94.45673370361328 | Val Acc : 94.16970825195312 |\n"
     ]
    },
    {
     "name": "stderr",
     "output_type": "stream",
     "text": [
      "100%|██████████| 241/241 [00:01<00:00, 149.69it/s]\n"
     ]
    },
    {
     "name": "stdout",
     "output_type": "stream",
     "text": [
      "| Train Loss : 0.13764124614954304 |  Val Loss : 0.1509250911274602 | Train Acc : 94.61288452148438 | Val Acc : 94.69026947021484 |\n"
     ]
    },
    {
     "name": "stderr",
     "output_type": "stream",
     "text": [
      "100%|██████████| 241/241 [00:01<00:00, 150.14it/s]\n"
     ]
    },
    {
     "name": "stdout",
     "output_type": "stream",
     "text": [
      "| Train Loss : 0.13881117844579666 |  Val Loss : 0.14845650585466208 | Train Acc : 94.378662109375 | Val Acc : 94.74232482910156 |\n"
     ]
    },
    {
     "name": "stderr",
     "output_type": "stream",
     "text": [
      "100%|██████████| 241/241 [00:01<00:00, 151.13it/s]\n"
     ]
    },
    {
     "name": "stdout",
     "output_type": "stream",
     "text": [
      "| Train Loss : 0.13457555084470502 |  Val Loss : 0.17610712267966522 | Train Acc : 94.72999572753906 | Val Acc : 93.28475189208984 |\n"
     ]
    },
    {
     "name": "stderr",
     "output_type": "stream",
     "text": [
      "100%|██████████| 241/241 [00:01<00:00, 149.58it/s]\n"
     ]
    },
    {
     "name": "stdout",
     "output_type": "stream",
     "text": [
      "| Train Loss : 0.13387963504239034 |  Val Loss : 0.15882674559275972 | Train Acc : 94.79505157470703 | Val Acc : 94.22176361083984 |\n"
     ]
    },
    {
     "name": "stderr",
     "output_type": "stream",
     "text": [
      "100%|██████████| 241/241 [00:01<00:00, 149.16it/s]\n"
     ]
    },
    {
     "name": "stdout",
     "output_type": "stream",
     "text": [
      "| Train Loss : 0.13213302038231878 |  Val Loss : 0.15836611492069655 | Train Acc : 94.79505157470703 | Val Acc : 93.70120239257812 |\n"
     ]
    },
    {
     "name": "stderr",
     "output_type": "stream",
     "text": [
      "100%|██████████| 241/241 [00:01<00:00, 150.00it/s]\n"
     ]
    },
    {
     "name": "stdout",
     "output_type": "stream",
     "text": [
      "| Train Loss : 0.1302951230832952 |  Val Loss : 0.15850596112577403 | Train Acc : 94.96421813964844 | Val Acc : 93.70120239257812 |\n"
     ]
    },
    {
     "name": "stderr",
     "output_type": "stream",
     "text": [
      "100%|██████████| 241/241 [00:01<00:00, 147.83it/s]\n"
     ]
    },
    {
     "name": "stdout",
     "output_type": "stream",
     "text": [
      "| Train Loss : 0.1284135619031778 |  Val Loss : 0.14472304179368542 | Train Acc : 95.00325012207031 | Val Acc : 94.79438018798828 |\n"
     ]
    },
    {
     "name": "stderr",
     "output_type": "stream",
     "text": [
      "100%|██████████| 241/241 [00:01<00:00, 150.06it/s]\n"
     ]
    },
    {
     "name": "stdout",
     "output_type": "stream",
     "text": [
      "| Train Loss : 0.12849832497071778 |  Val Loss : 0.16034793048488138 | Train Acc : 94.97722625732422 | Val Acc : 93.909423828125 |\n"
     ]
    },
    {
     "name": "stderr",
     "output_type": "stream",
     "text": [
      "100%|██████████| 241/241 [00:01<00:00, 148.54it/s]\n"
     ]
    },
    {
     "name": "stdout",
     "output_type": "stream",
     "text": [
      "| Train Loss : 0.12754797459656958 |  Val Loss : 0.1673250661938281 | Train Acc : 94.97722625732422 | Val Acc : 93.49298095703125 |\n"
     ]
    },
    {
     "name": "stderr",
     "output_type": "stream",
     "text": [
      "100%|██████████| 241/241 [00:01<00:00, 149.61it/s]\n"
     ]
    },
    {
     "name": "stdout",
     "output_type": "stream",
     "text": [
      "| Train Loss : 0.12717994090312668 |  Val Loss : 0.14615986447344145 | Train Acc : 94.91216278076172 | Val Acc : 95.15877532958984 |\n"
     ]
    },
    {
     "name": "stderr",
     "output_type": "stream",
     "text": [
      "100%|██████████| 241/241 [00:01<00:00, 148.74it/s]\n"
     ]
    },
    {
     "name": "stdout",
     "output_type": "stream",
     "text": [
      "| Train Loss : 0.1285808059011835 |  Val Loss : 0.1692764523406627 | Train Acc : 94.89915466308594 | Val Acc : 94.06559753417969 |\n",
      "Words found are : 3308\n",
      "Embedding(3308, 100)\n",
      "-----------------------------------------------------------2-fold of the model-----------------------------------------------------------\n"
     ]
    },
    {
     "name": "stderr",
     "output_type": "stream",
     "text": [
      "100%|██████████| 241/241 [00:01<00:00, 147.48it/s]\n"
     ]
    },
    {
     "name": "stdout",
     "output_type": "stream",
     "text": [
      "| Train Loss : 0.6922925307600236 |  Val Loss : 0.6923337320621159 | Train Acc : 51.86727523803711 | Val Acc : 48.77667999267578 |\n"
     ]
    },
    {
     "name": "stderr",
     "output_type": "stream",
     "text": [
      "100%|██████████| 241/241 [00:01<00:00, 149.21it/s]\n"
     ]
    },
    {
     "name": "stdout",
     "output_type": "stream",
     "text": [
      "| Train Loss : 0.6879344057711053 |  Val Loss : 0.684905992982786 | Train Acc : 57.17631530761719 | Val Acc : 59.29203796386719 |\n"
     ]
    },
    {
     "name": "stderr",
     "output_type": "stream",
     "text": [
      "100%|██████████| 241/241 [00:01<00:00, 144.22it/s]\n"
     ]
    },
    {
     "name": "stdout",
     "output_type": "stream",
     "text": [
      "| Train Loss : 0.6535427829508822 |  Val Loss : 0.41882806485795154 | Train Acc : 65.07482147216797 | Val Acc : 88.18324279785156 |\n"
     ]
    },
    {
     "name": "stderr",
     "output_type": "stream",
     "text": [
      "100%|██████████| 241/241 [00:01<00:00, 149.62it/s]\n"
     ]
    },
    {
     "name": "stdout",
     "output_type": "stream",
     "text": [
      "| Train Loss : 0.42747564122866094 |  Val Loss : 0.2800059356571082 | Train Acc : 81.7826919555664 | Val Acc : 89.79698181152344 |\n"
     ]
    },
    {
     "name": "stderr",
     "output_type": "stream",
     "text": [
      "100%|██████████| 241/241 [00:01<00:00, 149.44it/s]\n"
     ]
    },
    {
     "name": "stdout",
     "output_type": "stream",
     "text": [
      "| Train Loss : 0.29375911960760026 |  Val Loss : 0.23009871915060365 | Train Acc : 88.73129272460938 | Val Acc : 91.098388671875 |\n"
     ]
    },
    {
     "name": "stderr",
     "output_type": "stream",
     "text": [
      "100%|██████████| 241/241 [00:01<00:00, 149.96it/s]\n"
     ]
    },
    {
     "name": "stdout",
     "output_type": "stream",
     "text": [
      "| Train Loss : 0.22401049362038666 |  Val Loss : 0.16877299437821996 | Train Acc : 91.64606475830078 | Val Acc : 93.59709167480469 |\n"
     ]
    },
    {
     "name": "stderr",
     "output_type": "stream",
     "text": [
      "100%|██████████| 241/241 [00:01<00:00, 149.56it/s]\n"
     ]
    },
    {
     "name": "stdout",
     "output_type": "stream",
     "text": [
      "| Train Loss : 0.20978357659661312 |  Val Loss : 0.1527635851241784 | Train Acc : 91.82823944091797 | Val Acc : 94.53409576416016 |\n"
     ]
    },
    {
     "name": "stderr",
     "output_type": "stream",
     "text": [
      "100%|██████████| 241/241 [00:01<00:00, 150.62it/s]\n"
     ]
    },
    {
     "name": "stdout",
     "output_type": "stream",
     "text": [
      "| Train Loss : 0.19197320235104204 |  Val Loss : 0.16005447033050002 | Train Acc : 92.5309066772461 | Val Acc : 93.75325775146484 |\n"
     ]
    },
    {
     "name": "stderr",
     "output_type": "stream",
     "text": [
      "100%|██████████| 241/241 [00:01<00:00, 148.75it/s]\n"
     ]
    },
    {
     "name": "stdout",
     "output_type": "stream",
     "text": [
      "| Train Loss : 0.18693528959482772 |  Val Loss : 0.8699632305331928 | Train Acc : 92.99935150146484 | Val Acc : 62.93597412109375 |\n"
     ]
    },
    {
     "name": "stderr",
     "output_type": "stream",
     "text": [
      "100%|██████████| 241/241 [00:01<00:00, 148.48it/s]\n"
     ]
    },
    {
     "name": "stdout",
     "output_type": "stream",
     "text": [
      "| Train Loss : 0.173992909707987 |  Val Loss : 0.1558483819186858 | Train Acc : 93.02537536621094 | Val Acc : 93.85736846923828 |\n"
     ]
    },
    {
     "name": "stderr",
     "output_type": "stream",
     "text": [
      "100%|██████████| 241/241 [00:01<00:00, 148.94it/s]\n"
     ]
    },
    {
     "name": "stdout",
     "output_type": "stream",
     "text": [
      "| Train Loss : 0.1705627558249968 |  Val Loss : 0.17693899869387955 | Train Acc : 93.3376693725586 | Val Acc : 92.66007232666016 |\n"
     ]
    },
    {
     "name": "stderr",
     "output_type": "stream",
     "text": [
      "100%|██████████| 241/241 [00:01<00:00, 148.92it/s]\n"
     ]
    },
    {
     "name": "stdout",
     "output_type": "stream",
     "text": [
      "| Train Loss : 0.1697717561823405 |  Val Loss : 0.15920481742987527 | Train Acc : 93.53285217285156 | Val Acc : 94.22176361083984 |\n"
     ]
    },
    {
     "name": "stderr",
     "output_type": "stream",
     "text": [
      "100%|██████████| 241/241 [00:01<00:00, 148.80it/s]\n"
     ]
    },
    {
     "name": "stdout",
     "output_type": "stream",
     "text": [
      "| Train Loss : 0.16601538569675534 |  Val Loss : 0.16151214911874417 | Train Acc : 93.36369323730469 | Val Acc : 93.909423828125 |\n"
     ]
    },
    {
     "name": "stderr",
     "output_type": "stream",
     "text": [
      "100%|██████████| 241/241 [00:01<00:00, 148.62it/s]\n"
     ]
    },
    {
     "name": "stdout",
     "output_type": "stream",
     "text": [
      "| Train Loss : 0.16246816329803457 |  Val Loss : 0.15167848829069466 | Train Acc : 93.74105072021484 | Val Acc : 93.909423828125 |\n"
     ]
    },
    {
     "name": "stderr",
     "output_type": "stream",
     "text": [
      "100%|██████████| 241/241 [00:01<00:00, 148.89it/s]\n"
     ]
    },
    {
     "name": "stdout",
     "output_type": "stream",
     "text": [
      "| Train Loss : 0.15765350177743526 |  Val Loss : 0.18792986096743977 | Train Acc : 93.85816192626953 | Val Acc : 92.86830139160156 |\n"
     ]
    },
    {
     "name": "stderr",
     "output_type": "stream",
     "text": [
      "100%|██████████| 241/241 [00:01<00:00, 147.79it/s]\n"
     ]
    },
    {
     "name": "stdout",
     "output_type": "stream",
     "text": [
      "| Train Loss : 0.15508541083745003 |  Val Loss : 0.15420195006705795 | Train Acc : 93.88419342041016 | Val Acc : 93.75325775146484 |\n"
     ]
    },
    {
     "name": "stderr",
     "output_type": "stream",
     "text": [
      "100%|██████████| 241/241 [00:01<00:00, 149.62it/s]\n"
     ]
    },
    {
     "name": "stdout",
     "output_type": "stream",
     "text": [
      "| Train Loss : 0.15499636280455215 |  Val Loss : 0.15653814708296246 | Train Acc : 94.05335235595703 | Val Acc : 93.54502868652344 |\n"
     ]
    },
    {
     "name": "stderr",
     "output_type": "stream",
     "text": [
      "100%|██████████| 241/241 [00:01<00:00, 148.60it/s]\n"
     ]
    },
    {
     "name": "stdout",
     "output_type": "stream",
     "text": [
      "| Train Loss : 0.1523638750288924 |  Val Loss : 0.1693194102644261 | Train Acc : 93.96226501464844 | Val Acc : 93.33680725097656 |\n"
     ]
    },
    {
     "name": "stderr",
     "output_type": "stream",
     "text": [
      "100%|██████████| 241/241 [00:01<00:00, 149.13it/s]\n"
     ]
    },
    {
     "name": "stdout",
     "output_type": "stream",
     "text": [
      "| Train Loss : 0.148808471729619 |  Val Loss : 0.1540476927443571 | Train Acc : 94.00130462646484 | Val Acc : 94.32587432861328 |\n"
     ]
    },
    {
     "name": "stderr",
     "output_type": "stream",
     "text": [
      "100%|██████████| 241/241 [00:01<00:00, 148.87it/s]\n"
     ]
    },
    {
     "name": "stdout",
     "output_type": "stream",
     "text": [
      "| Train Loss : 0.14677819809746107 |  Val Loss : 0.1553420116005001 | Train Acc : 94.32660675048828 | Val Acc : 93.49298095703125 |\n"
     ]
    },
    {
     "name": "stderr",
     "output_type": "stream",
     "text": [
      "100%|██████████| 241/241 [00:01<00:00, 148.77it/s]\n"
     ]
    },
    {
     "name": "stdout",
     "output_type": "stream",
     "text": [
      "| Train Loss : 0.15086532995303537 |  Val Loss : 0.17972368622496376 | Train Acc : 93.98828887939453 | Val Acc : 93.12857818603516 |\n"
     ]
    },
    {
     "name": "stderr",
     "output_type": "stream",
     "text": [
      "100%|██████████| 241/241 [00:01<00:00, 149.37it/s]\n"
     ]
    },
    {
     "name": "stdout",
     "output_type": "stream",
     "text": [
      "| Train Loss : 0.14542917909295158 |  Val Loss : 0.14104627912092269 | Train Acc : 94.50878143310547 | Val Acc : 94.846435546875 |\n"
     ]
    },
    {
     "name": "stderr",
     "output_type": "stream",
     "text": [
      "100%|██████████| 241/241 [00:01<00:00, 149.72it/s]\n"
     ]
    },
    {
     "name": "stdout",
     "output_type": "stream",
     "text": [
      "| Train Loss : 0.1394894831689655 |  Val Loss : 0.22353339619170495 | Train Acc : 94.53480529785156 | Val Acc : 92.29568481445312 |\n"
     ]
    },
    {
     "name": "stderr",
     "output_type": "stream",
     "text": [
      "100%|██████████| 241/241 [00:01<00:00, 149.58it/s]\n"
     ]
    },
    {
     "name": "stdout",
     "output_type": "stream",
     "text": [
      "| Train Loss : 0.13879318982774783 |  Val Loss : 0.1577921864624634 | Train Acc : 94.50878143310547 | Val Acc : 93.54502868652344 |\n"
     ]
    },
    {
     "name": "stderr",
     "output_type": "stream",
     "text": [
      "100%|██████████| 241/241 [00:01<00:00, 148.68it/s]\n"
     ]
    },
    {
     "name": "stdout",
     "output_type": "stream",
     "text": [
      "| Train Loss : 0.13947511406381485 |  Val Loss : 0.2202497031525134 | Train Acc : 94.65191650390625 | Val Acc : 89.90109252929688 |\n"
     ]
    },
    {
     "name": "stderr",
     "output_type": "stream",
     "text": [
      "100%|██████████| 241/241 [00:01<00:00, 149.41it/s]\n"
     ]
    },
    {
     "name": "stdout",
     "output_type": "stream",
     "text": [
      "| Train Loss : 0.1394240715787561 |  Val Loss : 0.13464139378641746 | Train Acc : 94.53480529785156 | Val Acc : 95.00260925292969 |\n"
     ]
    },
    {
     "name": "stderr",
     "output_type": "stream",
     "text": [
      "100%|██████████| 241/241 [00:01<00:00, 149.91it/s]\n"
     ]
    },
    {
     "name": "stdout",
     "output_type": "stream",
     "text": [
      "| Train Loss : 0.13659722763334844 |  Val Loss : 0.1722576795125265 | Train Acc : 94.53480529785156 | Val Acc : 93.54502868652344 |\n"
     ]
    },
    {
     "name": "stderr",
     "output_type": "stream",
     "text": [
      "100%|██████████| 241/241 [00:01<00:00, 150.27it/s]\n"
     ]
    },
    {
     "name": "stdout",
     "output_type": "stream",
     "text": [
      "| Train Loss : 0.13833200930228134 |  Val Loss : 0.14327717148483124 | Train Acc : 94.39167022705078 | Val Acc : 94.32587432861328 |\n"
     ]
    },
    {
     "name": "stderr",
     "output_type": "stream",
     "text": [
      "100%|██████████| 241/241 [00:01<00:00, 149.72it/s]\n"
     ]
    },
    {
     "name": "stdout",
     "output_type": "stream",
     "text": [
      "| Train Loss : 0.13524072122740122 |  Val Loss : 0.15017332804022296 | Train Acc : 94.80806732177734 | Val Acc : 93.80531311035156 |\n"
     ]
    },
    {
     "name": "stderr",
     "output_type": "stream",
     "text": [
      "100%|██████████| 241/241 [00:01<00:00, 150.25it/s]\n"
     ]
    },
    {
     "name": "stdout",
     "output_type": "stream",
     "text": [
      "| Train Loss : 0.13183119233428617 |  Val Loss : 0.16658059465332864 | Train Acc : 94.72999572753906 | Val Acc : 92.2436294555664 |\n",
      "Words found are : 3308\n",
      "Embedding(3308, 100)\n",
      "-----------------------------------------------------------3-fold of the model-----------------------------------------------------------\n"
     ]
    },
    {
     "name": "stderr",
     "output_type": "stream",
     "text": [
      "100%|██████████| 241/241 [00:01<00:00, 146.87it/s]\n"
     ]
    },
    {
     "name": "stdout",
     "output_type": "stream",
     "text": [
      "| Train Loss : 0.692047205255182 |  Val Loss : 0.6902038191272094 | Train Acc : 51.29473114013672 | Val Acc : 57.00156784057617 |\n"
     ]
    },
    {
     "name": "stderr",
     "output_type": "stream",
     "text": [
      "100%|██████████| 241/241 [00:01<00:00, 149.01it/s]\n"
     ]
    },
    {
     "name": "stdout",
     "output_type": "stream",
     "text": [
      "| Train Loss : 0.6877073947531726 |  Val Loss : 0.6836032341818583 | Train Acc : 55.44567108154297 | Val Acc : 57.2618408203125 |\n"
     ]
    },
    {
     "name": "stderr",
     "output_type": "stream",
     "text": [
      "100%|██████████| 241/241 [00:01<00:00, 150.63it/s]\n"
     ]
    },
    {
     "name": "stdout",
     "output_type": "stream",
     "text": [
      "| Train Loss : 0.6553311723893388 |  Val Loss : 0.6333422353651175 | Train Acc : 64.05986022949219 | Val Acc : 56.11661148071289 |\n"
     ]
    },
    {
     "name": "stderr",
     "output_type": "stream",
     "text": [
      "100%|██████████| 241/241 [00:01<00:00, 149.79it/s]\n"
     ]
    },
    {
     "name": "stdout",
     "output_type": "stream",
     "text": [
      "| Train Loss : 0.42053810828834987 |  Val Loss : 0.23653594245634807 | Train Acc : 81.76968383789062 | Val Acc : 91.61895751953125 |\n"
     ]
    },
    {
     "name": "stderr",
     "output_type": "stream",
     "text": [
      "100%|██████████| 241/241 [00:01<00:00, 149.42it/s]\n"
     ]
    },
    {
     "name": "stdout",
     "output_type": "stream",
     "text": [
      "| Train Loss : 0.2552783427160129 |  Val Loss : 0.3388930727019402 | Train Acc : 90.24073028564453 | Val Acc : 86.20510864257812 |\n"
     ]
    },
    {
     "name": "stderr",
     "output_type": "stream",
     "text": [
      "100%|██████████| 241/241 [00:01<00:00, 145.63it/s]\n"
     ]
    },
    {
     "name": "stdout",
     "output_type": "stream",
     "text": [
      "| Train Loss : 0.21653030087944744 |  Val Loss : 0.2984051689750892 | Train Acc : 92.01040649414062 | Val Acc : 88.44352722167969 |\n"
     ]
    },
    {
     "name": "stderr",
     "output_type": "stream",
     "text": [
      "100%|██████████| 241/241 [00:01<00:00, 147.79it/s]\n"
     ]
    },
    {
     "name": "stdout",
     "output_type": "stream",
     "text": [
      "| Train Loss : 0.2010392524394108 |  Val Loss : 0.3388510320038922 | Train Acc : 92.3487319946289 | Val Acc : 88.49557495117188 |\n"
     ]
    },
    {
     "name": "stderr",
     "output_type": "stream",
     "text": [
      "100%|██████████| 241/241 [00:01<00:00, 150.33it/s]\n"
     ]
    },
    {
     "name": "stdout",
     "output_type": "stream",
     "text": [
      "| Train Loss : 0.19882731378883142 |  Val Loss : 0.17979833477490398 | Train Acc : 92.3487319946289 | Val Acc : 92.92035675048828 |\n"
     ]
    },
    {
     "name": "stderr",
     "output_type": "stream",
     "text": [
      "100%|██████████| 241/241 [00:01<00:00, 151.42it/s]\n"
     ]
    },
    {
     "name": "stdout",
     "output_type": "stream",
     "text": [
      "| Train Loss : 0.1783255217181217 |  Val Loss : 0.17610031938813492 | Train Acc : 93.3506851196289 | Val Acc : 93.33680725097656 |\n"
     ]
    },
    {
     "name": "stderr",
     "output_type": "stream",
     "text": [
      "100%|██████████| 241/241 [00:01<00:00, 150.15it/s]\n"
     ]
    },
    {
     "name": "stdout",
     "output_type": "stream",
     "text": [
      "| Train Loss : 0.17422601044439773 |  Val Loss : 0.24145610424564382 | Train Acc : 93.3376693725586 | Val Acc : 90.26548767089844 |\n"
     ]
    },
    {
     "name": "stderr",
     "output_type": "stream",
     "text": [
      "100%|██████████| 241/241 [00:01<00:00, 146.78it/s]\n"
     ]
    },
    {
     "name": "stdout",
     "output_type": "stream",
     "text": [
      "| Train Loss : 0.1701612477420442 |  Val Loss : 0.4712788804537505 | Train Acc : 93.376708984375 | Val Acc : 76.21031188964844 |\n"
     ]
    },
    {
     "name": "stderr",
     "output_type": "stream",
     "text": [
      "100%|██████████| 241/241 [00:01<00:00, 126.98it/s]\n"
     ]
    },
    {
     "name": "stdout",
     "output_type": "stream",
     "text": [
      "| Train Loss : 0.1602598682773059 |  Val Loss : 0.22991158467664624 | Train Acc : 93.91021728515625 | Val Acc : 90.26548767089844 |\n"
     ]
    },
    {
     "name": "stderr",
     "output_type": "stream",
     "text": [
      "100%|██████████| 241/241 [00:01<00:00, 150.12it/s]\n"
     ]
    },
    {
     "name": "stdout",
     "output_type": "stream",
     "text": [
      "| Train Loss : 0.16282786154948664 |  Val Loss : 0.18741056880778412 | Train Acc : 93.51984405517578 | Val Acc : 92.45185089111328 |\n"
     ]
    },
    {
     "name": "stderr",
     "output_type": "stream",
     "text": [
      "100%|██████████| 241/241 [00:01<00:00, 149.80it/s]\n"
     ]
    },
    {
     "name": "stdout",
     "output_type": "stream",
     "text": [
      "| Train Loss : 0.16231249975223547 |  Val Loss : 0.20444014583428752 | Train Acc : 93.63695526123047 | Val Acc : 91.25455474853516 |\n"
     ]
    },
    {
     "name": "stderr",
     "output_type": "stream",
     "text": [
      "100%|██████████| 241/241 [00:01<00:00, 147.74it/s]\n"
     ]
    },
    {
     "name": "stdout",
     "output_type": "stream",
     "text": [
      "| Train Loss : 0.16395930049767646 |  Val Loss : 0.21142712619166795 | Train Acc : 93.41574096679688 | Val Acc : 91.15044403076172 |\n"
     ]
    },
    {
     "name": "stderr",
     "output_type": "stream",
     "text": [
      "100%|██████████| 241/241 [00:01<00:00, 149.17it/s]\n"
     ]
    },
    {
     "name": "stdout",
     "output_type": "stream",
     "text": [
      "| Train Loss : 0.1554355386952417 |  Val Loss : 0.2734187913002647 | Train Acc : 93.96226501464844 | Val Acc : 87.81884765625 |\n"
     ]
    },
    {
     "name": "stderr",
     "output_type": "stream",
     "text": [
      "100%|██████████| 241/241 [00:01<00:00, 149.76it/s]\n"
     ]
    },
    {
     "name": "stdout",
     "output_type": "stream",
     "text": [
      "| Train Loss : 0.1523519941057256 |  Val Loss : 0.20263455466225255 | Train Acc : 94.2225112915039 | Val Acc : 91.04633331298828 |\n"
     ]
    },
    {
     "name": "stderr",
     "output_type": "stream",
     "text": [
      "100%|██████████| 241/241 [00:01<00:00, 143.19it/s]\n"
     ]
    },
    {
     "name": "stdout",
     "output_type": "stream",
     "text": [
      "| Train Loss : 0.15263864194802218 |  Val Loss : 0.17680861484909013 | Train Acc : 94.04033660888672 | Val Acc : 93.23269653320312 |\n"
     ]
    },
    {
     "name": "stderr",
     "output_type": "stream",
     "text": [
      "100%|██████████| 241/241 [00:01<00:00, 146.43it/s]\n"
     ]
    },
    {
     "name": "stdout",
     "output_type": "stream",
     "text": [
      "| Train Loss : 0.1506824818577329 |  Val Loss : 0.30232316671343656 | Train Acc : 94.4697494506836 | Val Acc : 89.53670501708984 |\n"
     ]
    },
    {
     "name": "stderr",
     "output_type": "stream",
     "text": [
      "100%|██████████| 241/241 [00:01<00:00, 139.48it/s]\n"
     ]
    },
    {
     "name": "stdout",
     "output_type": "stream",
     "text": [
      "| Train Loss : 0.14613695932975163 |  Val Loss : 0.1615914935675774 | Train Acc : 94.50878143310547 | Val Acc : 93.33680725097656 |\n"
     ]
    },
    {
     "name": "stderr",
     "output_type": "stream",
     "text": [
      "100%|██████████| 241/241 [00:01<00:00, 136.72it/s]\n"
     ]
    },
    {
     "name": "stdout",
     "output_type": "stream",
     "text": [
      "| Train Loss : 0.15034257272475327 |  Val Loss : 0.2536709938071792 | Train Acc : 94.24854278564453 | Val Acc : 91.04633331298828 |\n"
     ]
    },
    {
     "name": "stderr",
     "output_type": "stream",
     "text": [
      "100%|██████████| 241/241 [00:01<00:00, 140.56it/s]\n"
     ]
    },
    {
     "name": "stdout",
     "output_type": "stream",
     "text": [
      "| Train Loss : 0.1447923537152265 |  Val Loss : 0.2863796409870363 | Train Acc : 94.2225112915039 | Val Acc : 87.03800201416016 |\n"
     ]
    },
    {
     "name": "stderr",
     "output_type": "stream",
     "text": [
      "100%|██████████| 241/241 [00:01<00:00, 141.25it/s]\n"
     ]
    },
    {
     "name": "stdout",
     "output_type": "stream",
     "text": [
      "| Train Loss : 0.14318561318949127 |  Val Loss : 0.48933974417282355 | Train Acc : 94.53480529785156 | Val Acc : 79.59396362304688 |\n"
     ]
    },
    {
     "name": "stderr",
     "output_type": "stream",
     "text": [
      "100%|██████████| 241/241 [00:01<00:00, 139.96it/s]\n"
     ]
    },
    {
     "name": "stdout",
     "output_type": "stream",
     "text": [
      "| Train Loss : 0.14262149258914827 |  Val Loss : 0.16687940617280062 | Train Acc : 94.4827651977539 | Val Acc : 93.44091796875 |\n"
     ]
    },
    {
     "name": "stderr",
     "output_type": "stream",
     "text": [
      "100%|██████████| 241/241 [00:01<00:00, 148.91it/s]\n"
     ]
    },
    {
     "name": "stdout",
     "output_type": "stream",
     "text": [
      "| Train Loss : 0.14235371734750643 |  Val Loss : 0.1520263195679732 | Train Acc : 94.4827651977539 | Val Acc : 94.16970825195312 |\n"
     ]
    },
    {
     "name": "stderr",
     "output_type": "stream",
     "text": [
      "100%|██████████| 241/241 [00:01<00:00, 143.37it/s]\n"
     ]
    },
    {
     "name": "stdout",
     "output_type": "stream",
     "text": [
      "| Train Loss : 0.13795777994002625 |  Val Loss : 1.1187572662933365 | Train Acc : 94.97722625732422 | Val Acc : 60.43727493286133 |\n"
     ]
    },
    {
     "name": "stderr",
     "output_type": "stream",
     "text": [
      "100%|██████████| 241/241 [00:01<00:00, 144.81it/s]\n"
     ]
    },
    {
     "name": "stdout",
     "output_type": "stream",
     "text": [
      "| Train Loss : 0.15280038999780168 |  Val Loss : 0.15184825897261764 | Train Acc : 93.74105072021484 | Val Acc : 94.01353454589844 |\n"
     ]
    },
    {
     "name": "stderr",
     "output_type": "stream",
     "text": [
      "100%|██████████| 241/241 [00:01<00:00, 146.90it/s]\n"
     ]
    },
    {
     "name": "stdout",
     "output_type": "stream",
     "text": [
      "| Train Loss : 0.13940473799202918 |  Val Loss : 0.37381218709652775 | Train Acc : 94.43070983886719 | Val Acc : 80.94742584228516 |\n"
     ]
    },
    {
     "name": "stderr",
     "output_type": "stream",
     "text": [
      "100%|██████████| 241/241 [00:01<00:00, 149.87it/s]\n"
     ]
    },
    {
     "name": "stdout",
     "output_type": "stream",
     "text": [
      "| Train Loss : 0.13660702999722438 |  Val Loss : 0.35675358925866063 | Train Acc : 94.76902770996094 | Val Acc : 81.67621612548828 |\n"
     ]
    },
    {
     "name": "stderr",
     "output_type": "stream",
     "text": [
      "100%|██████████| 241/241 [00:01<00:00, 149.04it/s]\n"
     ]
    },
    {
     "name": "stdout",
     "output_type": "stream",
     "text": [
      "| Train Loss : 0.1381739666730301 |  Val Loss : 0.2250107975753256 | Train Acc : 94.54782104492188 | Val Acc : 89.27642059326172 |\n",
      "Words found are : 3308\n",
      "Embedding(3308, 100)\n",
      "-----------------------------------------------------------4-fold of the model-----------------------------------------------------------\n"
     ]
    },
    {
     "name": "stderr",
     "output_type": "stream",
     "text": [
      "100%|██████████| 241/241 [00:01<00:00, 149.82it/s]\n"
     ]
    },
    {
     "name": "stdout",
     "output_type": "stream",
     "text": [
      "| Train Loss : 0.6924764910454709 |  Val Loss : 0.6905145335482905 | Train Acc : 51.0474967956543 | Val Acc : 52.21239471435547 |\n"
     ]
    },
    {
     "name": "stderr",
     "output_type": "stream",
     "text": [
      "100%|██████████| 241/241 [00:01<00:00, 149.77it/s]\n"
     ]
    },
    {
     "name": "stdout",
     "output_type": "stream",
     "text": [
      "| Train Loss : 0.6872098182499525 |  Val Loss : 0.6835643300347375 | Train Acc : 56.148345947265625 | Val Acc : 58.82353210449219 |\n"
     ]
    },
    {
     "name": "stderr",
     "output_type": "stream",
     "text": [
      "100%|██████████| 241/241 [00:01<00:00, 151.53it/s]\n"
     ]
    },
    {
     "name": "stdout",
     "output_type": "stream",
     "text": [
      "| Train Loss : 0.6458891667013597 |  Val Loss : 0.37415077320490575 | Train Acc : 64.46324157714844 | Val Acc : 89.12025451660156 |\n"
     ]
    },
    {
     "name": "stderr",
     "output_type": "stream",
     "text": [
      "100%|██████████| 241/241 [00:01<00:00, 154.81it/s]\n"
     ]
    },
    {
     "name": "stdout",
     "output_type": "stream",
     "text": [
      "| Train Loss : 0.40074708744854454 |  Val Loss : 1.706320242952887 | Train Acc : 83.61743927001953 | Val Acc : 50.59865188598633 |\n"
     ]
    },
    {
     "name": "stderr",
     "output_type": "stream",
     "text": [
      "100%|██████████| 241/241 [00:01<00:00, 156.24it/s]\n"
     ]
    },
    {
     "name": "stdout",
     "output_type": "stream",
     "text": [
      "| Train Loss : 0.2787719929381168 |  Val Loss : 0.18806275308233011 | Train Acc : 89.4339599609375 | Val Acc : 93.12857818603516 |\n"
     ]
    },
    {
     "name": "stderr",
     "output_type": "stream",
     "text": [
      "100%|██████████| 241/241 [00:01<00:00, 156.12it/s]\n"
     ]
    },
    {
     "name": "stdout",
     "output_type": "stream",
     "text": [
      "| Train Loss : 0.2244051479035837 |  Val Loss : 0.17965119499238066 | Train Acc : 91.3077392578125 | Val Acc : 93.44091796875 |\n"
     ]
    },
    {
     "name": "stderr",
     "output_type": "stream",
     "text": [
      "100%|██████████| 241/241 [00:01<00:00, 153.64it/s]\n"
     ]
    },
    {
     "name": "stdout",
     "output_type": "stream",
     "text": [
      "| Train Loss : 0.2138331961325414 |  Val Loss : 0.2161577956044134 | Train Acc : 91.69811248779297 | Val Acc : 91.51483917236328 |\n"
     ]
    },
    {
     "name": "stderr",
     "output_type": "stream",
     "text": [
      "100%|██████████| 241/241 [00:01<00:00, 154.76it/s]\n"
     ]
    },
    {
     "name": "stdout",
     "output_type": "stream",
     "text": [
      "| Train Loss : 0.18988149083506076 |  Val Loss : 1.1340909190999537 | Train Acc : 92.71307373046875 | Val Acc : 58.459136962890625 |\n"
     ]
    },
    {
     "name": "stderr",
     "output_type": "stream",
     "text": [
      "100%|██████████| 241/241 [00:01<00:00, 153.89it/s]\n"
     ]
    },
    {
     "name": "stdout",
     "output_type": "stream",
     "text": [
      "| Train Loss : 0.19781665590506292 |  Val Loss : 0.15825898517146203 | Train Acc : 92.3357162475586 | Val Acc : 94.16970825195312 |\n"
     ]
    },
    {
     "name": "stderr",
     "output_type": "stream",
     "text": [
      "100%|██████████| 241/241 [00:01<00:00, 151.52it/s]\n"
     ]
    },
    {
     "name": "stdout",
     "output_type": "stream",
     "text": [
      "| Train Loss : 0.18153690596195343 |  Val Loss : 0.2067744219370229 | Train Acc : 93.12947082519531 | Val Acc : 91.72306823730469 |\n"
     ]
    },
    {
     "name": "stderr",
     "output_type": "stream",
     "text": [
      "100%|██████████| 241/241 [00:01<00:00, 152.83it/s]\n"
     ]
    },
    {
     "name": "stdout",
     "output_type": "stream",
     "text": [
      "| Train Loss : 0.1810184550075928 |  Val Loss : 0.1826798251837556 | Train Acc : 92.96031951904297 | Val Acc : 92.86830139160156 |\n"
     ]
    },
    {
     "name": "stderr",
     "output_type": "stream",
     "text": [
      "100%|██████████| 241/241 [00:01<00:00, 152.12it/s]\n"
     ]
    },
    {
     "name": "stdout",
     "output_type": "stream",
     "text": [
      "| Train Loss : 0.1755543347518399 |  Val Loss : 0.15535000789515918 | Train Acc : 93.09043884277344 | Val Acc : 94.06559753417969 |\n"
     ]
    },
    {
     "name": "stderr",
     "output_type": "stream",
     "text": [
      "100%|██████████| 241/241 [00:01<00:00, 156.63it/s]\n"
     ]
    },
    {
     "name": "stdout",
     "output_type": "stream",
     "text": [
      "| Train Loss : 0.16671717313682405 |  Val Loss : 0.23554520514289004 | Train Acc : 93.41574096679688 | Val Acc : 90.05726623535156 |\n"
     ]
    },
    {
     "name": "stderr",
     "output_type": "stream",
     "text": [
      "100%|██████████| 241/241 [00:01<00:00, 154.10it/s]\n"
     ]
    },
    {
     "name": "stdout",
     "output_type": "stream",
     "text": [
      "| Train Loss : 0.16061384538788454 |  Val Loss : 0.17099100064107142 | Train Acc : 93.72804260253906 | Val Acc : 93.38886260986328 |\n"
     ]
    },
    {
     "name": "stderr",
     "output_type": "stream",
     "text": [
      "100%|██████████| 241/241 [00:01<00:00, 150.75it/s]\n"
     ]
    },
    {
     "name": "stdout",
     "output_type": "stream",
     "text": [
      "| Train Loss : 0.16988134263356008 |  Val Loss : 0.19407874950436116 | Train Acc : 93.376708984375 | Val Acc : 92.035400390625 |\n"
     ]
    },
    {
     "name": "stderr",
     "output_type": "stream",
     "text": [
      "100%|██████████| 241/241 [00:01<00:00, 153.84it/s]\n"
     ]
    },
    {
     "name": "stdout",
     "output_type": "stream",
     "text": [
      "| Train Loss : 0.16117409152029083 |  Val Loss : 0.23124142869737802 | Train Acc : 93.85816192626953 | Val Acc : 89.69287109375 |\n"
     ]
    },
    {
     "name": "stderr",
     "output_type": "stream",
     "text": [
      "100%|██████████| 241/241 [00:01<00:00, 152.05it/s]\n"
     ]
    },
    {
     "name": "stdout",
     "output_type": "stream",
     "text": [
      "| Train Loss : 0.15838472993817804 |  Val Loss : 0.14455880469049656 | Train Acc : 94.00130462646484 | Val Acc : 94.1176528930664 |\n"
     ]
    },
    {
     "name": "stderr",
     "output_type": "stream",
     "text": [
      "100%|██████████| 241/241 [00:01<00:00, 155.85it/s]\n"
     ]
    },
    {
     "name": "stdout",
     "output_type": "stream",
     "text": [
      "| Train Loss : 0.15225959382248375 |  Val Loss : 0.1547225394122834 | Train Acc : 94.07937622070312 | Val Acc : 94.06559753417969 |\n"
     ]
    },
    {
     "name": "stderr",
     "output_type": "stream",
     "text": [
      "100%|██████████| 241/241 [00:01<00:00, 155.62it/s]\n"
     ]
    },
    {
     "name": "stdout",
     "output_type": "stream",
     "text": [
      "| Train Loss : 0.15768775431392018 |  Val Loss : 0.195796285716299 | Train Acc : 93.80611419677734 | Val Acc : 92.50390625 |\n"
     ]
    },
    {
     "name": "stderr",
     "output_type": "stream",
     "text": [
      "100%|██████████| 241/241 [00:01<00:00, 160.21it/s]\n"
     ]
    },
    {
     "name": "stdout",
     "output_type": "stream",
     "text": [
      "| Train Loss : 0.15033723119447565 |  Val Loss : 0.15332441093534172 | Train Acc : 94.14443969726562 | Val Acc : 94.1176528930664 |\n"
     ]
    },
    {
     "name": "stderr",
     "output_type": "stream",
     "text": [
      "100%|██████████| 241/241 [00:01<00:00, 160.04it/s]\n"
     ]
    },
    {
     "name": "stdout",
     "output_type": "stream",
     "text": [
      "| Train Loss : 0.1542443350306485 |  Val Loss : 0.1488974681885245 | Train Acc : 94.0923843383789 | Val Acc : 93.70120239257812 |\n"
     ]
    },
    {
     "name": "stderr",
     "output_type": "stream",
     "text": [
      "100%|██████████| 241/241 [00:01<00:00, 158.73it/s]\n"
     ]
    },
    {
     "name": "stdout",
     "output_type": "stream",
     "text": [
      "| Train Loss : 0.14890317216118049 |  Val Loss : 0.2565569139159886 | Train Acc : 94.2225112915039 | Val Acc : 87.97502136230469 |\n"
     ]
    },
    {
     "name": "stderr",
     "output_type": "stream",
     "text": [
      "100%|██████████| 241/241 [00:01<00:00, 155.74it/s]\n"
     ]
    },
    {
     "name": "stdout",
     "output_type": "stream",
     "text": [
      "| Train Loss : 0.14711990630231123 |  Val Loss : 0.14450885920035364 | Train Acc : 93.93624114990234 | Val Acc : 93.80531311035156 |\n"
     ]
    },
    {
     "name": "stderr",
     "output_type": "stream",
     "text": [
      "100%|██████████| 241/241 [00:01<00:00, 156.30it/s]\n"
     ]
    },
    {
     "name": "stdout",
     "output_type": "stream",
     "text": [
      "| Train Loss : 0.14500925128306363 |  Val Loss : 0.1416422317637434 | Train Acc : 94.378662109375 | Val Acc : 94.69026947021484 |\n"
     ]
    },
    {
     "name": "stderr",
     "output_type": "stream",
     "text": [
      "100%|██████████| 241/241 [00:01<00:00, 153.71it/s]\n"
     ]
    },
    {
     "name": "stdout",
     "output_type": "stream",
     "text": [
      "| Train Loss : 0.14558003112024198 |  Val Loss : 0.29727409968698904 | Train Acc : 94.378662109375 | Val Acc : 88.85997772216797 |\n"
     ]
    },
    {
     "name": "stderr",
     "output_type": "stream",
     "text": [
      "100%|██████████| 241/241 [00:01<00:00, 157.39it/s]\n"
     ]
    },
    {
     "name": "stdout",
     "output_type": "stream",
     "text": [
      "| Train Loss : 0.14447407664885054 |  Val Loss : 0.14812342831520736 | Train Acc : 94.56082916259766 | Val Acc : 94.32587432861328 |\n"
     ]
    },
    {
     "name": "stderr",
     "output_type": "stream",
     "text": [
      "100%|██████████| 241/241 [00:01<00:00, 155.83it/s]\n"
     ]
    },
    {
     "name": "stdout",
     "output_type": "stream",
     "text": [
      "| Train Loss : 0.1414903874318167 |  Val Loss : 0.4611249867861122 | Train Acc : 94.61288452148438 | Val Acc : 75.169189453125 |\n"
     ]
    },
    {
     "name": "stderr",
     "output_type": "stream",
     "text": [
      "100%|██████████| 241/241 [00:01<00:00, 158.51it/s]\n"
     ]
    },
    {
     "name": "stdout",
     "output_type": "stream",
     "text": [
      "| Train Loss : 0.14519227822356667 |  Val Loss : 0.17111550648694296 | Train Acc : 94.43070983886719 | Val Acc : 92.66007232666016 |\n"
     ]
    },
    {
     "name": "stderr",
     "output_type": "stream",
     "text": [
      "100%|██████████| 241/241 [00:01<00:00, 157.76it/s]\n"
     ]
    },
    {
     "name": "stdout",
     "output_type": "stream",
     "text": [
      "| Train Loss : 0.1407438017515176 |  Val Loss : 0.14650848981020667 | Train Acc : 94.45673370361328 | Val Acc : 93.96148681640625 |\n"
     ]
    },
    {
     "name": "stderr",
     "output_type": "stream",
     "text": [
      "100%|██████████| 241/241 [00:01<00:00, 155.40it/s]\n"
     ]
    },
    {
     "name": "stdout",
     "output_type": "stream",
     "text": [
      "| Train Loss : 0.1375905767383712 |  Val Loss : 0.15208332749148604 | Train Acc : 94.67794036865234 | Val Acc : 94.22176361083984 |\n"
     ]
    }
   ],
   "source": [
    "from sklearn.model_selection import StratifiedKFold\n",
    "from sklearn.model_selection import KFold\n",
    "from torch.utils.data import SubsetRandomSampler\n",
    "from torch.optim import Adam\n",
    "from tqdm import tqdm\n",
    "from torch.utils.data import DataLoader \n",
    "import matplotlib.pyplot as plt\n",
    "\n",
    "\n",
    "# sfk = StratifiedKFold(n_splits = config.FOLDS)\n",
    "kfold = KFold(n_splits = config.FOLDS)\n",
    "model_state_dicts = {}\n",
    " \n",
    "for fold, (train_idx, val_idx) in enumerate(kfold.split(np.arange(len(dataset)))):\n",
    "    \n",
    "    train_sampler = SubsetRandomSampler(train_idx)\n",
    "    val_sampler = SubsetRandomSampler(val_idx)\n",
    "    \n",
    "    train_loader = DataLoader(dataset, batch_size = config.BATCH_SIZE, sampler = train_sampler, collate_fn = MyCollate(0, config.MAX_LEN))\n",
    "    val_loader = DataLoader(dataset, batch_size = config.BATCH_SIZE, sampler = val_sampler, collate_fn = MyCollate(0, config.MAX_LEN))  \n",
    "    \n",
    "    VOCAB_SIZE = len(dataset.source_vocab)\n",
    "    HIDDEN_DIM = 128\n",
    "    OUTPUT_DIM = 1\n",
    "    VOCAB = list(dataset.source_vocab.stoi)\n",
    "\n",
    "    embedding_layer = get_emb_layer_with_weights(target_vocab = VOCAB, emb_model = fasttext_model, trainable = False)\n",
    "\n",
    "    model = Model(VOCAB_SIZE, config.EMB_DIM, HIDDEN_DIM, OUTPUT_DIM, embedding_layer)\n",
    "    model = model.to(config.DEVICE)\n",
    "    \n",
    "#     model\n",
    "#     model = Model(2, len(dataset.source_vocab), 128, 100, 1 ).to(config.DEVICE)\n",
    "#     hidden = model.init_hidden(config.BATCH_SIZE)\n",
    "#     model.hidden = hidden\n",
    "\n",
    "    loss_fn = nn.BCELoss()\n",
    "    optimizer = torch.optim.SGD(model.parameters(), lr = 0.1)\n",
    "    \n",
    "    train_losses = []\n",
    "    val_losses = []\n",
    "    train_accs = []\n",
    "    val_accs = []\n",
    "\n",
    "    y_true_train = []\n",
    "    y_pred_train = []\n",
    "    y_true_val = []\n",
    "    y_pred_val = []\n",
    "    \n",
    "    \n",
    "    print(f\"-----------------------------------------------------------{fold}-fold of the model-----------------------------------------------------------\")\n",
    "    for epoch in range(config.EPOCHS):\n",
    "        train_loss, train_correct = train_epochs(train_loader, model, loss_fn, optimizer)\n",
    "        val_loss, val_correct = val_epochs(val_loader, model, loss_fn)  \n",
    "        \n",
    "        train_loss = train_loss/len(train_loader.sampler)\n",
    "        val_loss = val_loss/len(val_loader.sampler)\n",
    "        train_acc = (train_correct/len(train_loader.sampler))*100\n",
    "        val_acc = (val_correct/len(val_loader.sampler))*100\n",
    "        \n",
    "        train_losses.append(train_loss)\n",
    "        val_losses.append(val_loss)\n",
    "        train_accs.append(train_acc.cpu().numpy().tolist())\n",
    "        val_accs.append(val_acc.cpu().numpy().tolist())\n",
    "        \n",
    "        y_true_train.append(train_correct)\n",
    "        y_pred_train.append(train_acc)\n",
    "        y_true_val.append(val_loss)\n",
    "        y_pred_val.append(val_correct)\n",
    "        \n",
    "        print(f\"| Train Loss : {train_loss} |\", end = \" \")\n",
    "        print(f\" Val Loss : {val_loss} |\", end = \" \")\n",
    "        print(f\"Train Acc : {train_acc} |\", end = \" \")\n",
    "        print(f\"Val Acc : {val_acc} |\")\n",
    "\n",
    "        \n",
    "    # Saving the state dicts for the model\n",
    "    model_state_dicts.update({f\"LSTM-Model-for-{fold}\" : model.state_dict(),\n",
    "                             f\"Model-Optimizer-for-{fold}\" : optimizer.state_dict()})\n",
    "    \n"
   ]
  },
  {
   "cell_type": "code",
   "execution_count": 70,
   "metadata": {},
   "outputs": [
    {
     "data": {
      "image/png": "[encoded data removed]",
      "text/plain": [
       "<Figure size 640x480 with 1 Axes>"
      ]
     },
     "metadata": {},
     "output_type": "display_data"
    },
    {
     "data": {
      "image/png": "[encoded data removed]",
      "text/plain": [
       "<Figure size 640x480 with 1 Axes>"
      ]
     },
     "metadata": {},
     "output_type": "display_data"
    }
   ],
   "source": [
    "# summarize history for accuracy\n",
    "plt.plot(train_accs)\n",
    "plt.plot(val_accs)\n",
    "plt.title('Model Accuracy')\n",
    "plt.ylabel('Accuracy')\n",
    "plt.xlabel('Epoch')\n",
    "plt.legend(['Train', 'Test'], loc='upper left')\n",
    "plt.show()\n",
    "# summarize history for loss\n",
    "plt.plot(train_losses)\n",
    "plt.plot(val_losses)\n",
    "plt.title('Model Loss')\n",
    "plt.ylabel('Loss')\n",
    "plt.xlabel('Epoch')\n",
    "plt.legend(['Train', 'Test'], loc='upper left')\n",
    "plt.show()"
   ]
  },
  {
   "cell_type": "code",
   "execution_count": 78,
   "metadata": {},
   "outputs": [],
   "source": [
    "torch.save(model_state_dicts, \"My-Model.pt\")"
   ]
  },
  {
   "cell_type": "code",
   "execution_count": null,
   "metadata": {},
   "outputs": [],
   "source": []
  },
  {
   "cell_type": "code",
   "execution_count": 71,
   "metadata": {},
   "outputs": [],
   "source": [
    "def numericalize(text):\n",
    "    \n",
    "    numerialized_source = [] \n",
    "    numerialized_source = [dataset.source_vocab.stoi[\"<SOS>\"]]\n",
    "    numerialized_source += dataset.source_vocab.numericalize(text)\n",
    "    numerialized_source.append(dataset.source_vocab.stoi[\"<EOS>\"])\n",
    "    \n",
    "    return numerialized_source\n",
    "\n",
    "def padding(source):\n",
    "    padded_sequence = torch.zeros(config.MAX_LEN, 1, dtype = torch.int)\n",
    "    source = torch.tensor(source)\n",
    "    \n",
    "    if len(source) > config.MAX_LEN:\n",
    "        padded_sequence[:, 0] = source[: config.MAX_LEN]\n",
    "    else:\n",
    "        padded_sequence[:len(source), 0] = padded_sequence[:len(source), 0] + source\n",
    "    \n",
    "    return padded_sequence"
   ]
  },
  {
   "cell_type": "code",
   "execution_count": 72,
   "metadata": {},
   "outputs": [],
   "source": [
    "def infer_processing(text):\n",
    "    \n",
    "    text = preprocessing(text)\n",
    "    text = numericalize(text)\n",
    "    text = padding(text)\n",
    "    return text"
   ]
  },
  {
   "cell_type": "code",
   "execution_count": 73,
   "metadata": {},
   "outputs": [],
   "source": [
    "aspects = [\"phone\", \"camera\", \"battery\", \"neutral\", \"processor\"]\n",
    "\n",
    "def get_similarity(text, aspect):\n",
    "    try:\n",
    "#         text = \" \".join(text)\n",
    "        return fasttext_model.wv.n_similarity(text, aspect)\n",
    "    except:\n",
    "        return 0\n",
    "    \n",
    "def best_aspect(text, aspects):\n",
    "    a = []\n",
    "    \n",
    "    for aspect in aspects:\n",
    "        a.append(get_similarity(text, aspect))\n",
    "    \n",
    "    return aspects[np.argmax(a)]"
   ]
  },
  {
   "cell_type": "code",
   "execution_count": 74,
   "metadata": {},
   "outputs": [],
   "source": [
    "sample = \"Camera is bad\"\n",
    "\n",
    "ba = best_aspect(preprocessing(sample), aspects)\n",
    "\n",
    "a = infer_processing(sample).to(config.DEVICE)"
   ]
  },
  {
   "cell_type": "code",
   "execution_count": 75,
   "metadata": {},
   "outputs": [],
   "source": [
    "model.eval()\n",
    "sentiment = model(a)\n",
    "sentiment = sentiment.cpu().detach().numpy()[0]\n",
    "\n",
    "if sentiment > 0.6:\n",
    "    sentiment = 'Positively'\n",
    "else :\n",
    "    sentiment = 'Negatively'"
   ]
  },
  {
   "cell_type": "code",
   "execution_count": 76,
   "metadata": {},
   "outputs": [
    {
     "name": "stdout",
     "output_type": "stream",
     "text": [
      "The Sentimet Negatively Aspect camera\n"
     ]
    }
   ],
   "source": [
    "print(f\"The Sentimet {sentiment} Aspect {ba}\")"
   ]
  },
  {
   "cell_type": "code",
   "execution_count": 77,
   "metadata": {},
   "outputs": [
    {
     "name": "stdout",
     "output_type": "stream",
     "text": [
      "[1, 1, 1, 1, 1, 0, 1, 1]\n"
     ]
    }
   ],
   "source": [
    "test_data = [\n",
    "    \"I Feel Very Good Today\",\n",
    "    \"I like this phone\",\n",
    "    \"I dont Like This Camera\",\n",
    "    \"The Battery isnt that good in my camera\",\n",
    "    \"i woudnt recommend this phone to anyone\",\n",
    "    \"I hate The battery of this phone\",\n",
    "    \"i like the processor of this phone\",\n",
    "    \"this phone sucks\",\n",
    "]\n",
    "\n",
    "actual_lable = [1,1,0,0,0,0,1,0]\n",
    "\n",
    "predicted_lable = []\n",
    "\n",
    "for data in test_data:\n",
    "    ba = best_aspect(preprocessing(data), aspects)\n",
    "    a = infer_processing(data).to(config.DEVICE)\n",
    "    model.eval()\n",
    "    sentiment = model(a)\n",
    "    sentiment = sentiment.cpu().detach().numpy()[0]\n",
    "    if sentiment > 0.6:\n",
    "        predicted_lable.append(1)\n",
    "    else :\n",
    "        predicted_lable.append(0)\n",
    "\n",
    "print(predicted_lable)"
   ]
  },
  {
   "cell_type": "code",
   "execution_count": 83,
   "metadata": {},
   "outputs": [
    {
     "name": "stdout",
     "output_type": "stream",
     "text": [
      "Train Recall: 1.0\n",
      "Train Precision: 0.42857142857142855\n"
     ]
    },
    {
     "data": {
      "image/png": "[encoded data removed]",
      "text/plain": [
       "<Figure size 640x480 with 2 Axes>"
      ]
     },
     "metadata": {},
     "output_type": "display_data"
    }
   ],
   "source": [
    "from sklearn.metrics import confusion_matrix\n",
    "import numpy as np\n",
    "import matplotlib.pyplot as plt\n",
    "from sklearn.metrics import confusion_matrix\n",
    "import itertools\n",
    "\n",
    "# Calculate the confusion matrix for train data\n",
    "tn_train, fp_train, fn_train, tp_train = confusion_matrix(actual_lable, predicted_lable).ravel()\n",
    "\n",
    "# Calculate train recall and precision\n",
    "train_recall = tp_train / (tp_train + fn_train)\n",
    "train_precision = tp_train / (tp_train + fp_train)\n",
    "\n",
    "# Print the results\n",
    "print(\"Train Recall:\", train_recall)\n",
    "print(\"Train Precision:\", train_precision)\n",
    "\n",
    "cm = confusion_matrix(actual_lable, predicted_lable)\n",
    "\n",
    "# Define class labels\n",
    "classes = ['Positive', 'Negatives']\n",
    "\n",
    "# Create the figure and axes\n",
    "fig, ax = plt.subplots()\n",
    "\n",
    "# Plot the confusion matrix as an image\n",
    "im = ax.imshow(cm, interpolation='nearest', cmap=plt.cm.Blues)\n",
    "\n",
    "# Add colorbar\n",
    "cbar = ax.figure.colorbar(im, ax=ax)\n",
    "\n",
    "# Set the ticks and tick labels\n",
    "tick_marks = np.arange(len(classes))\n",
    "ax.set_xticks(tick_marks)\n",
    "ax.set_yticks(tick_marks)\n",
    "ax.set_xticklabels(classes)\n",
    "ax.set_yticklabels(classes)\n",
    "\n",
    "# Rotate the tick labels and set their alignment\n",
    "plt.setp(ax.get_xticklabels(), rotation=45, ha=\"right\", rotation_mode=\"anchor\")\n",
    "\n",
    "# Loop over the data dimensions and create text annotations\n",
    "thresh = cm.max() / 2.0  # threshold for color change\n",
    "for i, j in itertools.product(range(cm.shape[0]), range(cm.shape[1])):\n",
    "    ax.text(j, i, format(cm[i, j], 'd'), ha=\"center\", va=\"center\",\n",
    "            color=\"white\" if cm[i, j] > thresh else \"black\")\n",
    "\n",
    "# Set labels and title\n",
    "ax.set_xlabel('Predicted')\n",
    "ax.set_ylabel('True')\n",
    "ax.set_title('Confusion Matrix')\n",
    "\n",
    "# Show the plot\n",
    "plt.show()\n",
    "\n",
    "\n",
    "\n",
    "\n",
    "\n"
   ]
  },
  {
   "cell_type": "code",
   "execution_count": null,
   "metadata": {},
   "outputs": [],
   "source": []
  }
 ],
 "metadata": {
  "kernelspec": {
   "display_name": "env",
   "language": "python",
   "name": "python3"
  },
  "language_info": {
   "codemirror_mode": {
    "name": "ipython",
    "version": 3
   },
   "file_extension": ".py",
   "mimetype": "text/x-python",
   "name": "python",
   "nbconvert_exporter": "python",
   "pygments_lexer": "ipython3",
   "version": "3.11.3"
  },
  "orig_nbformat": 4
 },
 "nbformat": 4,
 "nbformat_minor": 2
}
